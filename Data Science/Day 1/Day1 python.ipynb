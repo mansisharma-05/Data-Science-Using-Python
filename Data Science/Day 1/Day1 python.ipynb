{
 "cells": [
  {
   "cell_type": "code",
   "execution_count": 1,
   "id": "c18d007f-7792-4373-861e-60af67e2a64c",
   "metadata": {},
   "outputs": [
    {
     "name": "stdout",
     "output_type": "stream",
     "text": [
      "5678 <class 'int'>\n"
     ]
    }
   ],
   "source": [
    "#Int\n",
    "a=5678\n",
    "print(a,type(a))"
   ]
  },
  {
   "cell_type": "code",
   "execution_count": 3,
   "id": "7cce8baa-5fce-430f-8aa9-24b2f7413c11",
   "metadata": {},
   "outputs": [
    {
     "name": "stdout",
     "output_type": "stream",
     "text": [
      "4567.8765 <class 'float'>\n"
     ]
    }
   ],
   "source": [
    "#Float\n",
    "a=4567.8765\n",
    "print(a,type(a))"
   ]
  },
  {
   "cell_type": "code",
   "execution_count": 5,
   "id": "ea9a4f3b-21fa-4977-b4f5-541a007c051a",
   "metadata": {},
   "outputs": [
    {
     "name": "stdout",
     "output_type": "stream",
     "text": [
      "(456+8j) <class 'complex'>\n"
     ]
    }
   ],
   "source": [
    "#complex\n",
    "a=456+8j\n",
    "print(a,type(a))"
   ]
  },
  {
   "cell_type": "code",
   "execution_count": null,
   "id": "c09587ef-7af9-4e75-a207-7771bd26582d",
   "metadata": {},
   "outputs": [],
   "source": [
    "#int,float,complex= Nmerical"
   ]
  },
  {
   "cell_type": "code",
   "execution_count": 7,
   "id": "082f7e15-2aae-4703-9f06-3e460f5f7268",
   "metadata": {},
   "outputs": [
    {
     "name": "stdout",
     "output_type": "stream",
     "text": [
      "Hello Python <class 'str'>\n"
     ]
    }
   ],
   "source": [
    "# Str\n",
    "a='Hello Python'\n",
    "print(a,type(a))"
   ]
  },
  {
   "cell_type": "code",
   "execution_count": 9,
   "id": "97c167e3-1be5-49d0-ac63-5f66176b1c90",
   "metadata": {},
   "outputs": [
    {
     "name": "stdout",
     "output_type": "stream",
     "text": [
      "Twinkle, twinkle, little star,\n",
      "How I wonder what you are!\n",
      "Up above the world so high,\n",
      "Like a diamond in the sky.\n",
      "\n",
      "When the blazing sun is gone,\n",
      "When he nothing shines upon,\n",
      "Then you show your little light,\n",
      "Twinkle, twinkle, all the night.\n"
     ]
    }
   ],
   "source": [
    "poem='''Twinkle, twinkle, little star,\n",
    "How I wonder what you are!\n",
    "Up above the world so high,\n",
    "Like a diamond in the sky.\n",
    "\n",
    "When the blazing sun is gone,\n",
    "When he nothing shines upon,\n",
    "Then you show your little light,\n",
    "Twinkle, twinkle, all the night.'''\n",
    "print(poem)"
   ]
  },
  {
   "cell_type": "code",
   "execution_count": 11,
   "id": "5bcd4489-9d3f-4dd0-a9fc-657f069e8a6a",
   "metadata": {},
   "outputs": [
    {
     "name": "stdout",
     "output_type": "stream",
     "text": [
      "(2, 653, 485, 6) <class 'tuple'>\n"
     ]
    }
   ],
   "source": [
    "# tuple\n",
    "a= (2,653,485,6)\n",
    "print(a,type(a))"
   ]
  },
  {
   "cell_type": "code",
   "execution_count": 13,
   "id": "76feebf4-2a8d-4efe-8721-8b0cc227123e",
   "metadata": {},
   "outputs": [
    {
     "name": "stdout",
     "output_type": "stream",
     "text": [
      "(2,) <class 'tuple'>\n"
     ]
    }
   ],
   "source": [
    "# tuple\n",
    "a= (2,)\n",
    "print(a,type(a))\n"
   ]
  },
  {
   "cell_type": "code",
   "execution_count": 15,
   "id": "8ecb6dda-f0cf-4df1-b002-31fc29ab7394",
   "metadata": {},
   "outputs": [
    {
     "name": "stdout",
     "output_type": "stream",
     "text": [
      "[2, 653, 485, 6] <class 'list'>\n"
     ]
    }
   ],
   "source": [
    "# list\n",
    "a= [2,653,485,6]\n",
    "print(a,type(a))\n"
   ]
  },
  {
   "cell_type": "code",
   "execution_count": 17,
   "id": "17612975-2308-4196-a281-297ceb719881",
   "metadata": {},
   "outputs": [
    {
     "name": "stdout",
     "output_type": "stream",
     "text": [
      "[2, 653, 4000, 6]\n"
     ]
    }
   ],
   "source": [
    "a[2]= 4000\n",
    "print(a)"
   ]
  },
  {
   "cell_type": "code",
   "execution_count": 19,
   "id": "b3a44e48-27e8-44fb-ae35-59cce3a10672",
   "metadata": {},
   "outputs": [
    {
     "name": "stdout",
     "output_type": "stream",
     "text": [
      "<class 'tuple'>\n"
     ]
    }
   ],
   "source": [
    "a= list(a)\n",
    "a[3]= 900\n",
    "a= tuple\n",
    "print(a)"
   ]
  },
  {
   "cell_type": "code",
   "execution_count": 21,
   "id": "00ba9f14-7ecd-4f11-9b22-263fe03ff836",
   "metadata": {},
   "outputs": [
    {
     "name": "stdout",
     "output_type": "stream",
     "text": [
      "[1, 1, 2, 2, 2, 2, 23, 3, 3, 3, 4, 4, 4, 45]\n"
     ]
    }
   ],
   "source": [
    "std_id=[1,1,2,2,2,2,23,3,3,3,4,4,4,45]\n",
    "print(std_id)"
   ]
  },
  {
   "cell_type": "code",
   "execution_count": 23,
   "id": "8024cd29-c688-4f1d-a947-186911b7c464",
   "metadata": {},
   "outputs": [
    {
     "name": "stdout",
     "output_type": "stream",
     "text": [
      "[1, 2, 3, 4, 45, 23]\n"
     ]
    }
   ],
   "source": [
    "std_id=list(set(std_id))\n",
    "print(std_id)"
   ]
  },
  {
   "cell_type": "code",
   "execution_count": 25,
   "id": "936d516f-810c-417d-a2bd-fe08a7be04ef",
   "metadata": {},
   "outputs": [
    {
     "name": "stdout",
     "output_type": "stream",
     "text": [
      "{'Name': 'Mansi', 'Age': 20, 'Address': 'Delhi'} <class 'dict'>\n"
     ]
    }
   ],
   "source": [
    "#dict:-key value pair datatype\n",
    "\n",
    "a= {'Name':'Mansi','Age':20,'Address':'Delhi'}\n",
    "print(a,type(a))\n"
   ]
  },
  {
   "cell_type": "code",
   "execution_count": 27,
   "id": "a5475924-c278-4181-a02c-26e300faae0f",
   "metadata": {},
   "outputs": [
    {
     "name": "stdout",
     "output_type": "stream",
     "text": [
      "{'Name': 'Mansi', 'Age': 20, 'Address': 'Noida/Greater Noida'}\n"
     ]
    }
   ],
   "source": [
    "a['Address'] ='Noida/Greater Noida'\n",
    "print(a)"
   ]
  },
  {
   "cell_type": "code",
   "execution_count": 29,
   "id": "9dff3e77-35fb-46e5-9738-a2ae0804dd89",
   "metadata": {},
   "outputs": [
    {
     "name": "stdout",
     "output_type": "stream",
     "text": [
      "{'Region': ['West', 'East', 'North', 'South'], 'Sales': [345, 546, 453, 456], 'Profit': [120, 200, 90, 78]}\n"
     ]
    }
   ],
   "source": [
    "data = {'Region':['West','East','North','South'],\n",
    "        'Sales':[345,546,453,456],\n",
    "        'Profit':[120,200,90,78]}\n",
    "\n",
    "print(data)"
   ]
  },
  {
   "cell_type": "code",
   "execution_count": 31,
   "id": "591f1886-925a-444c-b779-0e1ec58e717a",
   "metadata": {},
   "outputs": [
    {
     "data": {
      "text/html": [
       "<div>\n",
       "<style scoped>\n",
       "    .dataframe tbody tr th:only-of-type {\n",
       "        vertical-align: middle;\n",
       "    }\n",
       "\n",
       "    .dataframe tbody tr th {\n",
       "        vertical-align: top;\n",
       "    }\n",
       "\n",
       "    .dataframe thead th {\n",
       "        text-align: right;\n",
       "    }\n",
       "</style>\n",
       "<table border=\"1\" class=\"dataframe\">\n",
       "  <thead>\n",
       "    <tr style=\"text-align: right;\">\n",
       "      <th></th>\n",
       "      <th>Region</th>\n",
       "      <th>Sales</th>\n",
       "      <th>Profit</th>\n",
       "    </tr>\n",
       "  </thead>\n",
       "  <tbody>\n",
       "    <tr>\n",
       "      <th>0</th>\n",
       "      <td>West</td>\n",
       "      <td>345</td>\n",
       "      <td>120</td>\n",
       "    </tr>\n",
       "    <tr>\n",
       "      <th>1</th>\n",
       "      <td>East</td>\n",
       "      <td>546</td>\n",
       "      <td>200</td>\n",
       "    </tr>\n",
       "    <tr>\n",
       "      <th>2</th>\n",
       "      <td>North</td>\n",
       "      <td>453</td>\n",
       "      <td>90</td>\n",
       "    </tr>\n",
       "    <tr>\n",
       "      <th>3</th>\n",
       "      <td>South</td>\n",
       "      <td>456</td>\n",
       "      <td>78</td>\n",
       "    </tr>\n",
       "  </tbody>\n",
       "</table>\n",
       "</div>"
      ],
      "text/plain": [
       "  Region  Sales  Profit\n",
       "0   West    345     120\n",
       "1   East    546     200\n",
       "2  North    453      90\n",
       "3  South    456      78"
      ]
     },
     "execution_count": 31,
     "metadata": {},
     "output_type": "execute_result"
    }
   ],
   "source": [
    "import pandas as pd\n",
    "\n",
    "table=pd.DataFrame(data)\n",
    "table\n"
   ]
  },
  {
   "cell_type": "code",
   "execution_count": 33,
   "id": "93dfbb3e-79b5-491b-a6c9-1f522e00bee1",
   "metadata": {},
   "outputs": [
    {
     "name": "stdout",
     "output_type": "stream",
     "text": [
      "True <class 'bool'>\n"
     ]
    }
   ],
   "source": [
    "a= True\n",
    "print(a,type(a))"
   ]
  },
  {
   "cell_type": "code",
   "execution_count": 35,
   "id": "d5022f03-05b5-409b-9e99-688578738dde",
   "metadata": {},
   "outputs": [],
   "source": [
    "#salary =56789\n",
    "#>= 50: manager\n",
    "#>= 30: Jr manager\n",
    "#>= 20: Executive\n",
    "#Intern"
   ]
  },
  {
   "cell_type": "code",
   "execution_count": 37,
   "id": "161e10a8-8406-4054-9aa7-8ea8c3c57178",
   "metadata": {},
   "outputs": [
    {
     "name": "stdout",
     "output_type": "stream",
     "text": [
      "manager\n"
     ]
    }
   ],
   "source": [
    "salary =56789\n",
    "if salary >= 50000:\n",
    "  print('manager')\n",
    "elif salary >= 30000:\n",
    "  print('Jr manager')\n",
    "elif salary >= 20000:\n",
    "  print('Executive')\n",
    "else:\n",
    "  print('Intern')"
   ]
  },
  {
   "cell_type": "code",
   "execution_count": 39,
   "id": "ec118063-5830-4241-b5bd-138d52c895be",
   "metadata": {},
   "outputs": [
    {
     "data": {
      "text/plain": [
       "12505"
      ]
     },
     "execution_count": 39,
     "metadata": {},
     "output_type": "execute_result"
    }
   ],
   "source": [
    "import random\n",
    "random.randint(10000,60000)\n"
   ]
  },
  {
   "cell_type": "code",
   "execution_count": 41,
   "id": "2d5935b4-24bc-4e37-aadf-3f22055eb974",
   "metadata": {},
   "outputs": [
    {
     "name": "stdout",
     "output_type": "stream",
     "text": [
      "[58917 46034 22323 27594 57866]\n"
     ]
    }
   ],
   "source": [
    "import numpy as np\n",
    "database_salary = np.random.randint(10000,60000,5)\n",
    "print(database_salary)"
   ]
  },
  {
   "cell_type": "code",
   "execution_count": 43,
   "id": "fcf77035-d818-4c4f-9fac-b523f43df429",
   "metadata": {},
   "outputs": [
    {
     "name": "stdout",
     "output_type": "stream",
     "text": [
      "58917 manager\n",
      "46034 Jr manager\n",
      "22323 Executive\n",
      "27594 Executive\n",
      "57866 manager\n"
     ]
    }
   ],
   "source": [
    "for i in database_salary:\n",
    "  salary = i\n",
    "  if salary >= 50000:\n",
    "    print(i,'manager')\n",
    "  elif salary >= 30000:\n",
    "    print(i,'Jr manager')\n",
    "  elif salary >= 20000:\n",
    "    print(i,'Executive')\n",
    "  else:\n",
    "    print(i,'Intern')"
   ]
  },
  {
   "cell_type": "code",
   "execution_count": 45,
   "id": "c6501ad6-d520-480d-92a0-ac780b5fb6a9",
   "metadata": {},
   "outputs": [
    {
     "name": "stdout",
     "output_type": "stream",
     "text": [
      "Mon Jun 30 23:24:20 2025\n"
     ]
    }
   ],
   "source": [
    "import time\n",
    "for i in range(50):\n",
    "  print(time.asctime())\n",
    "  time.sleep(1)\n",
    "  display(clear= True)"
   ]
  },
  {
   "cell_type": "code",
   "execution_count": null,
   "id": "901006ef-fec2-4119-b228-376e7b924046",
   "metadata": {},
   "outputs": [],
   "source": [
    "import random\n",
    "comp_choice = random.randint(1,10)\n",
    "user_choice = int(input('Enter your choice(1-10):'))\n",
    "\n",
    "print(f'''\n",
    "User choice: {user_choice}\n",
    "Computer choice: {comp_choice}''')\n",
    "\n",
    "if user_choice == comp_choice:\n",
    "  print('User won,Comp Lose!!')\n",
    "else:\n",
    "  print('Better Luck next time!!')"
   ]
  },
  {
   "cell_type": "code",
   "execution_count": null,
   "id": "51973a06-0077-4ffe-bda7-52943079e1d4",
   "metadata": {},
   "outputs": [],
   "source": [
    "user_attempts = 3\n",
    "\n",
    "for i in range(user_attempts):\n",
    "  comp_choice = random.randint(1,10)\n",
    "  user_choice = int(input('Enter your choice(1-10):'))\n",
    "\n",
    "  print(f'''\n",
    "    User choice: {user_choice}\n",
    "    Computer choice: {comp_choice}''')\n",
    "\n",
    "  if user_choice == comp_choice:\n",
    "      print('User won,Comp Lose!!')\n",
    "  else:\n",
    "      print('Better Luck next time!!')\n",
    "      "
   ]
  },
  {
   "cell_type": "code",
   "execution_count": null,
   "id": "6d1a7aef-15b6-4b38-81b1-1bca58b45315",
   "metadata": {},
   "outputs": [],
   "source": [
    "Questions ={1:'Which is the largest planet in our Solar System?',\n",
    "            2:'Who is known as the Father of the Indian Constitution?',\n",
    "            3:'What is the capital of Australia?',\n",
    "            4:'Who invented the light bulb?',\n",
    "            5:'Which country is known as the Land of the Rising Sun?'}\n",
    "\n",
    "options = {1:'''A. Earth\n",
    "B. Jupiter\n",
    "C. Mars\n",
    "D. Saturn''',\n",
    "           2:'''A. Mahatma Gandhi\n",
    "B. Jawaharlal Nehru\n",
    "C. Dr. B.R. Ambedkar\n",
    "D. Sardar Vallabhbhai Patel''',\n",
    "           3:'''A. Sydney\n",
    "B. Melbourne\n",
    "C. Canberra\n",
    "D. Brisbane''',\n",
    "           4:'''A. Nikola Tesla\n",
    "B. Albert Einstein\n",
    "C. Thomas Edison\n",
    "D. Isaac Newton''',\n",
    "           5:'''A. China\n",
    "B. Japan\n",
    "C. South Korea\n",
    "D. Thailand'''}\n",
    "\n",
    "win_amount = 0\n",
    "\n",
    "correct_op = ['B','C','C','C','B']\n",
    "\n",
    "for i in range(1,len(Questions)+1):\n",
    "  print(f'Question {i}: ',Questions[i])\n",
    "  print(options[i])\n",
    "  user_choice= input('Enter your choice: ').upper()\n",
    "\n",
    "  correct_ans = correct_op[i-1]\n",
    "  #print(correct_ans)\n",
    "\n",
    "  if user_choice == correct_ans:\n",
    "    win_amount += 10000\n",
    "    print('Correct answer!!')\n",
    "    print(end ='\\n'*3)\n",
    "\n",
    "  else:\n",
    "    print('Better luck next time!!')\n",
    "    break\n",
    "\n",
    "print('Total amount won',win_amount)"
   ]
  },
  {
   "cell_type": "code",
   "execution_count": null,
   "id": "653d3fd3-96fd-421a-9130-e7e4d9c93680",
   "metadata": {},
   "outputs": [],
   "source": [
    "def say_hello(name):\n",
    "  print(f'Hello {name}','How are you??')"
   ]
  },
  {
   "cell_type": "code",
   "execution_count": null,
   "id": "d56aebde-33b7-4142-98c5-1e9f8702575a",
   "metadata": {},
   "outputs": [],
   "source": [
    "say_hello('Mansi')"
   ]
  },
  {
   "cell_type": "code",
   "execution_count": null,
   "id": "3b89ece9-5a3c-4a38-a57e-d8efcaa6dfd1",
   "metadata": {},
   "outputs": [],
   "source": [
    "def vote(age):\n",
    "  print('You can vote!!') if age >= 18 else print('You cannot vote!!')\n",
    "    "
   ]
  },
  {
   "cell_type": "code",
   "execution_count": null,
   "id": "c51586a1-0bdc-4aa5-b2d4-50279b61b8e6",
   "metadata": {},
   "outputs": [],
   "source": [
    " # pip install gTTS"
   ]
  },
  {
   "cell_type": "code",
   "execution_count": null,
   "id": "5fa400d4-17ee-44d9-8761-818f8a06c078",
   "metadata": {},
   "outputs": [],
   "source": [
    "from gtts import gTTS\n",
    "text = '''Paytm par 50 rs Prapt hue.'''\n",
    "audio = gTTS(text)\n",
    "audio.save('paytm.mp3')\n",
    "\n",
    "import pygame as p\n",
    "p.init()\n",
    "\n",
    "music = p.mixer.Sound('paytm.mp3')\n",
    "music.play()\n"
   ]
  },
  {
   "cell_type": "code",
   "execution_count": null,
   "id": "d08db1b2-0697-478c-9b79-51cdaefc0694",
   "metadata": {},
   "outputs": [],
   "source": [
    "def sound_box(amount,platform = 'Paytm'):\n",
    "\n",
    "  text = f'''{platform} par {amount} rs Prapt hue.'''\n",
    "  audio = gTTS(text)\n",
    "  audio.save('paytm.mp3')\n",
    "\n",
    "  import pygame as p\n",
    "  p.init()\n",
    "\n",
    "  music = p.mixer.Sound('paytm.mp3')\n",
    "  music.play()"
   ]
  },
  {
   "cell_type": "code",
   "execution_count": null,
   "id": "cd872ecf-755c-4463-bf0e-6c50f886792e",
   "metadata": {},
   "outputs": [],
   "source": [
    "sound_box(486,'Google Pay')\n"
   ]
  },
  {
   "cell_type": "code",
   "execution_count": null,
   "id": "172c0473-1b44-4021-8507-09ef3063e480",
   "metadata": {},
   "outputs": [],
   "source": [
    "# pip install pygame"
   ]
  },
  {
   "cell_type": "code",
   "execution_count": null,
   "id": "525349b2-2e24-4e27-87ac-29fef958d6a4",
   "metadata": {},
   "outputs": [],
   "source": []
  }
 ],
 "metadata": {
  "kernelspec": {
   "display_name": "Python 3 (ipykernel)",
   "language": "python",
   "name": "python3"
  },
  "language_info": {
   "codemirror_mode": {
    "name": "ipython",
    "version": 3
   },
   "file_extension": ".py",
   "mimetype": "text/x-python",
   "name": "python",
   "nbconvert_exporter": "python",
   "pygments_lexer": "ipython3",
   "version": "3.12.4"
  }
 },
 "nbformat": 4,
 "nbformat_minor": 5
}
