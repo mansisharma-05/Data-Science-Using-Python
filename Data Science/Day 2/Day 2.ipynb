{
 "cells": [
  {
   "cell_type": "code",
   "execution_count": 1,
   "id": "6bcd1923-9063-4a43-a91f-c9f7bf9a3594",
   "metadata": {},
   "outputs": [],
   "source": [
    "#Functional Programming"
   ]
  },
  {
   "cell_type": "code",
   "execution_count": 3,
   "id": "2a1f7baa-455e-4f10-8a40-4636f22e25ef",
   "metadata": {},
   "outputs": [],
   "source": [
    "def check_palindrome(word):\n",
    "    return word"
   ]
  },
  {
   "attachments": {},
   "cell_type": "raw",
   "id": "dd782524-0f87-45f5-a504-4fe4203dc4b4",
   "metadata": {},
   "source": [
    "check_palindrome('Mansi')\n",
    "\n",
    "a='lucky'\n",
    "a[::-1]"
   ]
  },
  {
   "cell_type": "code",
   "execution_count": 11,
   "id": "431a03ef-5210-4463-85e5-e7caf31e4369",
   "metadata": {},
   "outputs": [
    {
     "name": "stdout",
     "output_type": "stream",
     "text": [
      "Mohan is not palindrome\n"
     ]
    }
   ],
   "source": [
    "a = 'Mohan'\n",
    "\n",
    "if a == a[::-1]:\n",
    "    print(f'{a} is a palindrome')\n",
    "else:\n",
    "    print(f'{a} is not palindrome')"
   ]
  },
  {
   "cell_type": "code",
   "execution_count": 13,
   "id": "2bd66dbd-57b1-42da-97ee-ddea0501dd4e",
   "metadata": {},
   "outputs": [
    {
     "name": "stdout",
     "output_type": "stream",
     "text": [
      "nitin is a palindrome\n"
     ]
    }
   ],
   "source": [
    "a = 'nitin'\n",
    "\n",
    "if a == a[::-1]:\n",
    "    print(f'{a} is a palindrome')\n",
    "else:\n",
    "    print(f'{a} is not palindrome')"
   ]
  },
  {
   "cell_type": "code",
   "execution_count": 15,
   "id": "3292ae74-4e83-4a8e-814e-443434da983a",
   "metadata": {},
   "outputs": [],
   "source": [
    "def check_palindrome(word):\n",
    "    if word == word[::-1]:\n",
    "        return 'Palindrome'\n",
    "    else:\n",
    "        return 'Not Palindrome'"
   ]
  },
  {
   "cell_type": "code",
   "execution_count": 17,
   "id": "e0a7b15f-fad9-448e-a26c-6e0e0af8ed88",
   "metadata": {},
   "outputs": [
    {
     "data": {
      "text/plain": [
       "'Not Palindrome'"
      ]
     },
     "execution_count": 17,
     "metadata": {},
     "output_type": "execute_result"
    }
   ],
   "source": [
    "check_palindrome('Nitin')"
   ]
  },
  {
   "cell_type": "code",
   "execution_count": 19,
   "id": "fb2e3615-0816-4662-a2b5-1cdc1d9d90d8",
   "metadata": {},
   "outputs": [
    {
     "data": {
      "text/plain": [
       "'Palindrome'"
      ]
     },
     "execution_count": 19,
     "metadata": {},
     "output_type": "execute_result"
    }
   ],
   "source": [
    "check_palindrome('nitin')"
   ]
  },
  {
   "cell_type": "code",
   "execution_count": 27,
   "id": "96e5cd1f-d4eb-4b7a-b8d0-784ba4fd3623",
   "metadata": {},
   "outputs": [],
   "source": [
    "def check_palindrome(word:str):\n",
    "    if type(word) == str:\n",
    "        word = word.upper()\n",
    "        if word == word[::-1]:\n",
    "            return 'Palindrome'\n",
    "        else:\n",
    "            return 'Not Palindrome'\n",
    "    else:\n",
    "        return 'Invalid Data Type'"
   ]
  },
  {
   "cell_type": "code",
   "execution_count": 29,
   "id": "2a2293b1-509a-412e-b593-9564b43bef47",
   "metadata": {},
   "outputs": [
    {
     "data": {
      "text/plain": [
       "'Not Palindrome'"
      ]
     },
     "execution_count": 29,
     "metadata": {},
     "output_type": "execute_result"
    }
   ],
   "source": [
    "check_palindrome('12,35,45')"
   ]
  },
  {
   "cell_type": "code",
   "execution_count": 23,
   "id": "3d669ec7-24cf-4ef0-8f45-13b6575b1cae",
   "metadata": {},
   "outputs": [
    {
     "data": {
      "text/plain": [
       "'Palindrome'"
      ]
     },
     "execution_count": 23,
     "metadata": {},
     "output_type": "execute_result"
    }
   ],
   "source": [
    "check_palindrome('Nitin')"
   ]
  },
  {
   "cell_type": "code",
   "execution_count": 25,
   "id": "ecbae526-e45e-435b-b6b0-5c68e4949bcd",
   "metadata": {},
   "outputs": [
    {
     "name": "stdout",
     "output_type": "stream",
     "text": [
      "Mansi\n"
     ]
    }
   ],
   "source": [
    "a:int = 'Mansi'\n",
    "print(a)"
   ]
  },
  {
   "cell_type": "code",
   "execution_count": 55,
   "id": "54d6e3c1-a4db-4286-9ff0-b08ab70dcf0c",
   "metadata": {},
   "outputs": [],
   "source": [
    "def give_fibo(n):\n",
    "    fibo = [0,1]\n",
    "    for i in range(n-2):\n",
    "        last_num = fibo[-1]\n",
    "        second_last_num = fibo[-2]\n",
    "        next_num = last_num + second_last_num\n",
    "        fibo.append(next_num)\n",
    "    return fibo\n",
    "    "
   ]
  },
  {
   "cell_type": "code",
   "execution_count": 57,
   "id": "9dd90a94-ea94-4140-9460-44353038e948",
   "metadata": {},
   "outputs": [
    {
     "name": "stdout",
     "output_type": "stream",
     "text": [
      "[0, 1, 1, 2, 3, 5, 8, 13, 21, 34, 55, 89, 144, 233, 377, 610, 987, 1597, 2584, 4181]\n"
     ]
    }
   ],
   "source": [
    "print(give_fibo(20))"
   ]
  },
  {
   "cell_type": "code",
   "execution_count": 33,
   "id": "912f537d-4dec-459f-ac37-3fa383bd3cf7",
   "metadata": {},
   "outputs": [
    {
     "name": "stdout",
     "output_type": "stream",
     "text": [
      "856\n",
      "76\n"
     ]
    }
   ],
   "source": [
    "data = [34,65,654,76,856]\n",
    "print(data[-1])\n",
    "print(data[-2])"
   ]
  },
  {
   "cell_type": "code",
   "execution_count": 59,
   "id": "5fc922bd-f9ce-4956-96c2-8378d959760c",
   "metadata": {},
   "outputs": [
    {
     "data": {
      "text/plain": [
       "[2, 3, 4, 5, 6]"
      ]
     },
     "execution_count": 59,
     "metadata": {},
     "output_type": "execute_result"
    }
   ],
   "source": [
    "list(range(2,7))"
   ]
  },
  {
   "cell_type": "code",
   "execution_count": 63,
   "id": "b836767b-cc95-4fe4-9fe7-37c4228db56d",
   "metadata": {},
   "outputs": [],
   "source": [
    "def check_prime(number):\n",
    "    for i in range(2,number):\n",
    "        if number % i == 0:\n",
    "            return 'Not a Prime Number'\n",
    "            break\n",
    "    else:\n",
    "        return 'Prime Number'"
   ]
  },
  {
   "cell_type": "code",
   "execution_count": 65,
   "id": "b9026e8e-39ea-4307-b24e-8909d7b8e476",
   "metadata": {},
   "outputs": [
    {
     "data": {
      "text/plain": [
       "'Prime Number'"
      ]
     },
     "execution_count": 65,
     "metadata": {},
     "output_type": "execute_result"
    }
   ],
   "source": [
    "check_prime(7)"
   ]
  },
  {
   "cell_type": "code",
   "execution_count": 67,
   "id": "ae2ec0d4-9287-4669-bee1-6d7f90319364",
   "metadata": {},
   "outputs": [
    {
     "data": {
      "text/plain": [
       "'Not a Prime Number'"
      ]
     },
     "execution_count": 67,
     "metadata": {},
     "output_type": "execute_result"
    }
   ],
   "source": [
    "check_prime(35)"
   ]
  },
  {
   "cell_type": "code",
   "execution_count": 75,
   "id": "a8efadfb-ec6a-4ff9-8730-e371b1196f0b",
   "metadata": {},
   "outputs": [
    {
     "name": "stdout",
     "output_type": "stream",
     "text": [
      "HelloHelloHelloHelloHello\n"
     ]
    }
   ],
   "source": [
    "n = 5.0\n",
    "\n",
    "print('Hello'*int(n))"
   ]
  },
  {
   "cell_type": "code",
   "execution_count": 77,
   "id": "0b4d3e80-af6f-4757-9e81-c902f5091f7e",
   "metadata": {},
   "outputs": [
    {
     "name": "stdout",
     "output_type": "stream",
     "text": [
      "0\n",
      "1\n",
      "2\n",
      "3\n",
      "4\n"
     ]
    }
   ],
   "source": [
    "n=5\n",
    "for i in range(n):\n",
    "    print(i)"
   ]
  },
  {
   "cell_type": "code",
   "execution_count": 81,
   "id": "886238be-3e75-434e-bdc4-5ef3604777fc",
   "metadata": {},
   "outputs": [
    {
     "name": "stdout",
     "output_type": "stream",
     "text": [
      "*\n",
      "**\n",
      "***\n",
      "****\n",
      "*****\n"
     ]
    }
   ],
   "source": [
    "n = 5\n",
    "\n",
    "for i in range(1,n+1):\n",
    "    print(i * '*')"
   ]
  },
  {
   "cell_type": "code",
   "execution_count": 87,
   "id": "f3f88ffb-1e98-4c0e-ae13-dd11ea689e42",
   "metadata": {},
   "outputs": [
    {
     "name": "stdout",
     "output_type": "stream",
     "text": [
      "    *\n",
      "   **\n",
      "  ***\n",
      " ****\n",
      "*****\n"
     ]
    }
   ],
   "source": [
    "n = 5\n",
    "\n",
    "for i in range(1,n+1):\n",
    "    print(' '*(n-i) + i*'*')"
   ]
  },
  {
   "cell_type": "code",
   "execution_count": 89,
   "id": "c6d4863d-7648-4f21-adf0-ef989c70e8b4",
   "metadata": {},
   "outputs": [
    {
     "name": "stdout",
     "output_type": "stream",
     "text": [
      "    * \n",
      "   * * \n",
      "  * * * \n",
      " * * * * \n",
      "* * * * * \n"
     ]
    }
   ],
   "source": [
    "n = 5\n",
    "\n",
    "for i in range(1,n+1):\n",
    "    print(' '*(n-i) + i*'* ')"
   ]
  },
  {
   "cell_type": "code",
   "execution_count": 50,
   "id": "bb50c498-e64a-40ff-b1be-092e604b7b95",
   "metadata": {},
   "outputs": [],
   "source": [
    "def print_star(n=5, typ = 'left',shape = '*'):\n",
    "    global space\n",
    "    if typ == 'left':\n",
    "        space = ''\n",
    "\n",
    "    elif typ == 'right':\n",
    "        space = '  '\n",
    "\n",
    "    elif typ == 'mid':\n",
    "        space = ' '\n",
    "    \n",
    "    for i in range(1,n+1):\n",
    "        print(space*(n-i) + i*f'{shape} ')"
   ]
  },
  {
   "cell_type": "code",
   "execution_count": 52,
   "id": "6f9c40f3-e55c-4f1b-9f19-188510a3293d",
   "metadata": {},
   "outputs": [
    {
     "name": "stdout",
     "output_type": "stream",
     "text": [
      "$ \n",
      "$ $ \n",
      "$ $ $ \n",
      "$ $ $ $ \n",
      "$ $ $ $ $ \n",
      "$ $ $ $ $ $ \n"
     ]
    }
   ],
   "source": [
    "print_star(6,'left','$')"
   ]
  },
  {
   "cell_type": "code",
   "execution_count": 135,
   "id": "19684a2a-b7ec-4ab4-bc0e-3c11c4b65395",
   "metadata": {},
   "outputs": [
    {
     "name": "stdout",
     "output_type": "stream",
     "text": [
      "                  $ \n",
      "                $ $ \n",
      "              $ $ $ \n",
      "            $ $ $ $ \n",
      "          $ $ $ $ $ \n",
      "        $ $ $ $ $ $ \n",
      "      $ $ $ $ $ $ $ \n",
      "    $ $ $ $ $ $ $ $ \n",
      "  $ $ $ $ $ $ $ $ $ \n",
      "$ $ $ $ $ $ $ $ $ $ \n"
     ]
    }
   ],
   "source": [
    "print_star(10,'right','$')"
   ]
  },
  {
   "cell_type": "code",
   "execution_count": 133,
   "id": "7943396c-be2b-4f83-ab65-5b135a9b47da",
   "metadata": {},
   "outputs": [
    {
     "name": "stdout",
     "output_type": "stream",
     "text": [
      "         $ \n",
      "        $ $ \n",
      "       $ $ $ \n",
      "      $ $ $ $ \n",
      "     $ $ $ $ $ \n",
      "    $ $ $ $ $ $ \n",
      "   $ $ $ $ $ $ $ \n",
      "  $ $ $ $ $ $ $ $ \n",
      " $ $ $ $ $ $ $ $ $ \n",
      "$ $ $ $ $ $ $ $ $ $ \n"
     ]
    }
   ],
   "source": [
    "print_star(10,'mid','$')"
   ]
  },
  {
   "cell_type": "code",
   "execution_count": 149,
   "id": "3be9990c-d2c8-4fd7-b522-3a5b48764b65",
   "metadata": {},
   "outputs": [],
   "source": [
    "def sum_of_n_natural_numbers(n):\n",
    "    result = 0\n",
    "    for i in range(1,n+1):\n",
    "        result += i\n",
    "    return result"
   ]
  },
  {
   "cell_type": "code",
   "execution_count": 151,
   "id": "33894dd0-ecb1-4d3e-89e3-80e0e103ca7e",
   "metadata": {},
   "outputs": [
    {
     "data": {
      "text/plain": [
       "55"
      ]
     },
     "execution_count": 151,
     "metadata": {},
     "output_type": "execute_result"
    }
   ],
   "source": [
    "sum_of_n_natural_numbers(10)"
   ]
  },
  {
   "cell_type": "code",
   "execution_count": 155,
   "id": "6a2980be-c93c-4473-a816-658c2498f59f",
   "metadata": {},
   "outputs": [],
   "source": [
    "def factorial(n):\n",
    "    result = 1\n",
    "    for i in range(1,n+1):\n",
    "        result *= i\n",
    "    return result"
   ]
  },
  {
   "cell_type": "raw",
   "id": "2dcb8b0d-aabc-4519-aedc-4959d39500a0",
   "metadata": {},
   "source": [
    "factorial(4)"
   ]
  },
  {
   "cell_type": "code",
   "execution_count": 167,
   "id": "310ccab2-7bea-4f08-b5f2-498eb584a0b8",
   "metadata": {},
   "outputs": [],
   "source": [
    "def total_sales(*args):\n",
    "    #unpacking(holds more than one elements)\n",
    "    return sum(args)"
   ]
  },
  {
   "cell_type": "code",
   "execution_count": 169,
   "id": "94e0c3ba-01c9-4369-a45d-c7b1fc1c7632",
   "metadata": {},
   "outputs": [
    {
     "data": {
      "text/plain": [
       "158"
      ]
     },
     "execution_count": 169,
     "metadata": {},
     "output_type": "execute_result"
    }
   ],
   "source": [
    "total_sales(1,2,4,69,5,77)"
   ]
  },
  {
   "cell_type": "code",
   "execution_count": 175,
   "id": "29c00a39-a1ab-4da2-bafe-08b44cb42cfe",
   "metadata": {},
   "outputs": [],
   "source": [
    "def total_sales(*args):\n",
    "    #unpacking(holds more than one elements)\n",
    "    result = 0\n",
    "    for i in args:\n",
    "        result += i\n",
    "    return result"
   ]
  },
  {
   "cell_type": "code",
   "execution_count": 177,
   "id": "54b83e64-918a-46f4-9e24-91dd0595a0ad",
   "metadata": {},
   "outputs": [
    {
     "data": {
      "text/plain": [
       "233"
      ]
     },
     "execution_count": 177,
     "metadata": {},
     "output_type": "execute_result"
    }
   ],
   "source": [
    "total_sales(1,2,76,56,98)"
   ]
  },
  {
   "cell_type": "code",
   "execution_count": 179,
   "id": "d0786819-8cc7-4a4a-b657-72776feb5ec3",
   "metadata": {},
   "outputs": [],
   "source": [
    "sales = [436,63,456,347,3245,6234,6547,2346,28757,468]\n",
    "\n",
    "#min(sales)"
   ]
  },
  {
   "cell_type": "code",
   "execution_count": 181,
   "id": "762427e4-0a81-42d7-8e5b-6dd7b1fd0b8e",
   "metadata": {},
   "outputs": [
    {
     "name": "stdout",
     "output_type": "stream",
     "text": [
      "63\n"
     ]
    }
   ],
   "source": [
    "sales = [436,63,456,347,3245,6234,6547,2346,28757,468]\n",
    "min_element = sales[0]\n",
    "for i in sales[1:]:\n",
    "    if i < min_element:\n",
    "        min_element = i\n",
    "print(min_element)"
   ]
  },
  {
   "cell_type": "code",
   "execution_count": 183,
   "id": "d6558302-0bf9-45dc-9b03-18b28e05e8ef",
   "metadata": {},
   "outputs": [
    {
     "name": "stdout",
     "output_type": "stream",
     "text": [
      "28757\n"
     ]
    }
   ],
   "source": [
    "sales = [436,63,456,347,3245,6234,6547,2346,28757,468]\n",
    "max_element = sales[0]\n",
    "for i in sales[1:]:\n",
    "    if i > max_element:\n",
    "        max_element = i\n",
    "print(max_element)"
   ]
  },
  {
   "cell_type": "code",
   "execution_count": 185,
   "id": "22c244ae-9b52-4f95-9a89-3b16fe97bdbf",
   "metadata": {},
   "outputs": [],
   "source": [
    "def minn(*data):\n",
    "    min_ele = data[0]\n",
    "    for i in data[1:]:\n",
    "        if i< min_ele:\n",
    "            min_ele = i\n",
    "    return min_ele\n",
    "    "
   ]
  },
  {
   "cell_type": "code",
   "execution_count": 187,
   "id": "94c7d932-6e45-4f56-8070-522f70adc460",
   "metadata": {},
   "outputs": [
    {
     "data": {
      "text/plain": [
       "64"
      ]
     },
     "execution_count": 187,
     "metadata": {},
     "output_type": "execute_result"
    }
   ],
   "source": [
    "minn(376,246,354,64,667,468)"
   ]
  },
  {
   "cell_type": "code",
   "execution_count": 193,
   "id": "5cc96af9-a5c9-4323-96ef-a54cb66c3652",
   "metadata": {},
   "outputs": [],
   "source": [
    "def maxx(*data):\n",
    "    max_ele = data[0]\n",
    "    for i in data[1:]:\n",
    "        if i> max_ele:\n",
    "            max_ele = i\n",
    "    return max_ele\n",
    "    "
   ]
  },
  {
   "cell_type": "code",
   "execution_count": 195,
   "id": "646c6b61-0e69-440f-8151-d12178561d31",
   "metadata": {},
   "outputs": [
    {
     "data": {
      "text/plain": [
       "667"
      ]
     },
     "execution_count": 195,
     "metadata": {},
     "output_type": "execute_result"
    }
   ],
   "source": [
    "maxx(376,246,354,64,667,468)"
   ]
  },
  {
   "cell_type": "code",
   "execution_count": 197,
   "id": "8c679bac-2e55-4669-85c0-ffdd03123f08",
   "metadata": {},
   "outputs": [],
   "source": [
    "company = ['ola','uber','rapido','indrive','adani','tata']\n",
    "\n",
    "def add_hashtag(*company):\n",
    "    result = []\n",
    "    for i in company:\n",
    "        result.append('#'+i.upper())\n",
    "    return result"
   ]
  },
  {
   "cell_type": "code",
   "execution_count": 199,
   "id": "eefb07a5-751c-41ef-a041-bbb1d2bf8aac",
   "metadata": {},
   "outputs": [
    {
     "data": {
      "text/plain": [
       "['#OLA', '#UBER']"
      ]
     },
     "execution_count": 199,
     "metadata": {},
     "output_type": "execute_result"
    }
   ],
   "source": [
    "add_hashtag('Ola','Uber')"
   ]
  },
  {
   "cell_type": "code",
   "execution_count": 201,
   "id": "8213ec90-fd79-4d77-9480-1ded5d3a8dc7",
   "metadata": {},
   "outputs": [
    {
     "data": {
      "text/plain": [
       "['#OLA', '#UBER', '#RAPIDO', '#INDRIVE', '#ADANI', '#TATA']"
      ]
     },
     "execution_count": 201,
     "metadata": {},
     "output_type": "execute_result"
    }
   ],
   "source": [
    "add_hashtag(*company)"
   ]
  },
  {
   "cell_type": "code",
   "execution_count": 211,
   "id": "dbeeb65a-fe6b-4ac8-bc49-4e985c00b419",
   "metadata": {},
   "outputs": [],
   "source": [
    "def store_records(name,age,section,roll_no,Class):\n",
    "    data = {'Name':name,'Age':age,'Sec':section,'Roll_No':roll_no,'Class':Class}\n",
    "    import pandas as pd\n",
    "    result = pd.DataFrame(data,index = [1])\n",
    "    return result"
   ]
  },
  {
   "cell_type": "code",
   "execution_count": 217,
   "id": "99bed260-30ca-4ada-a17f-1c002db789a8",
   "metadata": {},
   "outputs": [
    {
     "data": {
      "text/html": [
       "<div>\n",
       "<style scoped>\n",
       "    .dataframe tbody tr th:only-of-type {\n",
       "        vertical-align: middle;\n",
       "    }\n",
       "\n",
       "    .dataframe tbody tr th {\n",
       "        vertical-align: top;\n",
       "    }\n",
       "\n",
       "    .dataframe thead th {\n",
       "        text-align: right;\n",
       "    }\n",
       "</style>\n",
       "<table border=\"1\" class=\"dataframe\">\n",
       "  <thead>\n",
       "    <tr style=\"text-align: right;\">\n",
       "      <th></th>\n",
       "      <th>Name</th>\n",
       "      <th>Age</th>\n",
       "      <th>Sec</th>\n",
       "      <th>Roll_No</th>\n",
       "      <th>Class</th>\n",
       "    </tr>\n",
       "  </thead>\n",
       "  <tbody>\n",
       "    <tr>\n",
       "      <th>1</th>\n",
       "      <td>Mansi</td>\n",
       "      <td>20</td>\n",
       "      <td>A</td>\n",
       "      <td>21</td>\n",
       "      <td>12</td>\n",
       "    </tr>\n",
       "  </tbody>\n",
       "</table>\n",
       "</div>"
      ],
      "text/plain": [
       "    Name  Age Sec  Roll_No  Class\n",
       "1  Mansi   20   A       21     12"
      ]
     },
     "execution_count": 217,
     "metadata": {},
     "output_type": "execute_result"
    }
   ],
   "source": [
    "store_records('Mansi',20,'A',21,12)"
   ]
  },
  {
   "cell_type": "code",
   "execution_count": 215,
   "id": "61e6dcb2-6a0d-411b-86d3-db904033cdde",
   "metadata": {},
   "outputs": [
    {
     "data": {
      "text/html": [
       "<div>\n",
       "<style scoped>\n",
       "    .dataframe tbody tr th:only-of-type {\n",
       "        vertical-align: middle;\n",
       "    }\n",
       "\n",
       "    .dataframe tbody tr th {\n",
       "        vertical-align: top;\n",
       "    }\n",
       "\n",
       "    .dataframe thead th {\n",
       "        text-align: right;\n",
       "    }\n",
       "</style>\n",
       "<table border=\"1\" class=\"dataframe\">\n",
       "  <thead>\n",
       "    <tr style=\"text-align: right;\">\n",
       "      <th></th>\n",
       "      <th>Name</th>\n",
       "      <th>Age</th>\n",
       "      <th>Sec</th>\n",
       "      <th>Roll_No</th>\n",
       "      <th>Class</th>\n",
       "    </tr>\n",
       "  </thead>\n",
       "  <tbody>\n",
       "    <tr>\n",
       "      <th>1</th>\n",
       "      <td>Mansi</td>\n",
       "      <td>20</td>\n",
       "      <td>A</td>\n",
       "      <td>21</td>\n",
       "      <td>12</td>\n",
       "    </tr>\n",
       "  </tbody>\n",
       "</table>\n",
       "</div>"
      ],
      "text/plain": [
       "    Name  Age Sec  Roll_No  Class\n",
       "1  Mansi   20   A       21     12"
      ]
     },
     "metadata": {},
     "output_type": "display_data"
    },
    {
     "data": {
      "text/html": [
       "<div>\n",
       "<style scoped>\n",
       "    .dataframe tbody tr th:only-of-type {\n",
       "        vertical-align: middle;\n",
       "    }\n",
       "\n",
       "    .dataframe tbody tr th {\n",
       "        vertical-align: top;\n",
       "    }\n",
       "\n",
       "    .dataframe thead th {\n",
       "        text-align: right;\n",
       "    }\n",
       "</style>\n",
       "<table border=\"1\" class=\"dataframe\">\n",
       "  <thead>\n",
       "    <tr style=\"text-align: right;\">\n",
       "      <th></th>\n",
       "      <th>Name</th>\n",
       "      <th>Age</th>\n",
       "      <th>Sec</th>\n",
       "      <th>Roll_No</th>\n",
       "      <th>Class</th>\n",
       "    </tr>\n",
       "  </thead>\n",
       "  <tbody>\n",
       "    <tr>\n",
       "      <th>1</th>\n",
       "      <td>Bhoomi</td>\n",
       "      <td>21</td>\n",
       "      <td>B</td>\n",
       "      <td>28</td>\n",
       "      <td>12</td>\n",
       "    </tr>\n",
       "  </tbody>\n",
       "</table>\n",
       "</div>"
      ],
      "text/plain": [
       "     Name  Age Sec  Roll_No  Class\n",
       "1  Bhoomi   21   B       28     12"
      ]
     },
     "metadata": {},
     "output_type": "display_data"
    },
    {
     "data": {
      "text/html": [
       "<div>\n",
       "<style scoped>\n",
       "    .dataframe tbody tr th:only-of-type {\n",
       "        vertical-align: middle;\n",
       "    }\n",
       "\n",
       "    .dataframe tbody tr th {\n",
       "        vertical-align: top;\n",
       "    }\n",
       "\n",
       "    .dataframe thead th {\n",
       "        text-align: right;\n",
       "    }\n",
       "</style>\n",
       "<table border=\"1\" class=\"dataframe\">\n",
       "  <thead>\n",
       "    <tr style=\"text-align: right;\">\n",
       "      <th></th>\n",
       "      <th>Name</th>\n",
       "      <th>Age</th>\n",
       "      <th>Sec</th>\n",
       "      <th>Roll_No</th>\n",
       "      <th>Class</th>\n",
       "    </tr>\n",
       "  </thead>\n",
       "  <tbody>\n",
       "    <tr>\n",
       "      <th>1</th>\n",
       "      <td>Megha</td>\n",
       "      <td>20</td>\n",
       "      <td>C</td>\n",
       "      <td>11</td>\n",
       "      <td>12</td>\n",
       "    </tr>\n",
       "  </tbody>\n",
       "</table>\n",
       "</div>"
      ],
      "text/plain": [
       "    Name  Age Sec  Roll_No  Class\n",
       "1  Megha   20   C       11     12"
      ]
     },
     "metadata": {},
     "output_type": "display_data"
    }
   ],
   "source": [
    "display(store_records('Mansi',20,'A',21,12))\n",
    "display(store_records('Bhoomi',21,'B',28,12))\n",
    "display(store_records('Megha',20,'C',11,12))"
   ]
  },
  {
   "cell_type": "code",
   "execution_count": 30,
   "id": "c794cd89-cd70-4bfc-8cfc-00059dd0482f",
   "metadata": {},
   "outputs": [
    {
     "data": {
      "text/html": [
       "<div>\n",
       "<style scoped>\n",
       "    .dataframe tbody tr th:only-of-type {\n",
       "        vertical-align: middle;\n",
       "    }\n",
       "\n",
       "    .dataframe tbody tr th {\n",
       "        vertical-align: top;\n",
       "    }\n",
       "\n",
       "    .dataframe thead th {\n",
       "        text-align: right;\n",
       "    }\n",
       "</style>\n",
       "<table border=\"1\" class=\"dataframe\">\n",
       "  <thead>\n",
       "    <tr style=\"text-align: right;\">\n",
       "      <th></th>\n",
       "      <th>Name</th>\n",
       "      <th>Age</th>\n",
       "      <th>sec</th>\n",
       "      <th>Roll_no</th>\n",
       "      <th>Address</th>\n",
       "    </tr>\n",
       "  </thead>\n",
       "  <tbody>\n",
       "    <tr>\n",
       "      <th>0</th>\n",
       "      <td>Ayan</td>\n",
       "      <td>20</td>\n",
       "      <td>A</td>\n",
       "      <td>75</td>\n",
       "      <td>Noida</td>\n",
       "    </tr>\n",
       "    <tr>\n",
       "      <th>1</th>\n",
       "      <td>Mansi</td>\n",
       "      <td>19</td>\n",
       "      <td>B</td>\n",
       "      <td>101</td>\n",
       "      <td>Delhi</td>\n",
       "    </tr>\n",
       "    <tr>\n",
       "      <th>2</th>\n",
       "      <td>Bhoomi</td>\n",
       "      <td>20</td>\n",
       "      <td>C</td>\n",
       "      <td>365</td>\n",
       "      <td>Noida</td>\n",
       "    </tr>\n",
       "  </tbody>\n",
       "</table>\n",
       "</div>"
      ],
      "text/plain": [
       "     Name  Age sec  Roll_no Address\n",
       "0    Ayan   20   A       75   Noida\n",
       "1   Mansi   19   B      101   Delhi\n",
       "2  Bhoomi   20   C      365   Noida"
      ]
     },
     "execution_count": 30,
     "metadata": {},
     "output_type": "execute_result"
    }
   ],
   "source": [
    "def students_records(**kwargs): #kwargs is keyword argument(dictionary form)\n",
    "    # print(kwargs)\n",
    "    #try exception\n",
    "\n",
    "    import pandas as pd\n",
    "    try:\n",
    "        result = pd.DataFrame(kwargs)\n",
    "        return result\n",
    "    except:\n",
    "        result = pd.DataFrame(kwargs,index = [1])\n",
    "        return result\n",
    "\n",
    "students_records(Name = ['Ayan','Mansi','Bhoomi'],\n",
    "                 Age = [20,19,20],\n",
    "                 sec = list('ABC'),\n",
    "                 Roll_no = [75,101,365],\n",
    "                 Address = ['Noida','Delhi','Noida'])"
   ]
  },
  {
   "cell_type": "code",
   "execution_count": 20,
   "id": "67a3ed9f-9e5d-40fa-a661-d919219428cd",
   "metadata": {},
   "outputs": [
    {
     "data": {
      "text/html": [
       "<div>\n",
       "<style scoped>\n",
       "    .dataframe tbody tr th:only-of-type {\n",
       "        vertical-align: middle;\n",
       "    }\n",
       "\n",
       "    .dataframe tbody tr th {\n",
       "        vertical-align: top;\n",
       "    }\n",
       "\n",
       "    .dataframe thead th {\n",
       "        text-align: right;\n",
       "    }\n",
       "</style>\n",
       "<table border=\"1\" class=\"dataframe\">\n",
       "  <thead>\n",
       "    <tr style=\"text-align: right;\">\n",
       "      <th></th>\n",
       "      <th>Name</th>\n",
       "      <th>Age</th>\n",
       "      <th>sec</th>\n",
       "      <th>Roll_no</th>\n",
       "      <th>Address</th>\n",
       "    </tr>\n",
       "  </thead>\n",
       "  <tbody>\n",
       "    <tr>\n",
       "      <th>1</th>\n",
       "      <td>Ayan</td>\n",
       "      <td>20</td>\n",
       "      <td>E2</td>\n",
       "      <td>75</td>\n",
       "      <td>Delhi</td>\n",
       "    </tr>\n",
       "  </tbody>\n",
       "</table>\n",
       "</div>"
      ],
      "text/plain": [
       "   Name  Age sec Roll_no Address\n",
       "1  Ayan   20  E2      75   Delhi"
      ]
     },
     "execution_count": 20,
     "metadata": {},
     "output_type": "execute_result"
    }
   ],
   "source": [
    "students_records(Name = 'Ayan',\n",
    "                 Age = 20,\n",
    "                 sec = 'E2',\n",
    "                 Roll_no = '75',\n",
    "                 Address = 'Delhi')"
   ]
  },
  {
   "cell_type": "code",
   "execution_count": null,
   "id": "b2c6557c-f37b-4a4b-a85c-888cec8a91e5",
   "metadata": {},
   "outputs": [],
   "source": [
    "def show_time():\n",
    "    try:\n",
    "        while True:\n",
    "            import time\n",
    "            print(time.asctime())\n",
    "            time.sleep(1)\n",
    "            display(clear = True)\n",
    "    except:\n",
    "        print('Timer has been Stopped!!!')\n"
   ]
  },
  {
   "cell_type": "code",
   "execution_count": 41,
   "id": "7cf17c49-de80-4f61-8557-c41fc95091b0",
   "metadata": {},
   "outputs": [
    {
     "name": "stdout",
     "output_type": "stream",
     "text": [
      "Fri Jul  4 11:52:52 2025\n"
     ]
    },
    {
     "ename": "KeyboardInterrupt",
     "evalue": "",
     "output_type": "error",
     "traceback": [
      "\u001b[1;31m---------------------------------------------------------------------------\u001b[0m",
      "\u001b[1;31mKeyboardInterrupt\u001b[0m                         Traceback (most recent call last)",
      "Cell \u001b[1;32mIn[41], line 1\u001b[0m\n\u001b[1;32m----> 1\u001b[0m show_time()\n",
      "Cell \u001b[1;32mIn[37], line 5\u001b[0m, in \u001b[0;36mshow_time\u001b[1;34m()\u001b[0m\n\u001b[0;32m      3\u001b[0m \u001b[38;5;28;01mimport\u001b[39;00m \u001b[38;5;21;01mtime\u001b[39;00m\n\u001b[0;32m      4\u001b[0m \u001b[38;5;28mprint\u001b[39m(time\u001b[38;5;241m.\u001b[39masctime())\n\u001b[1;32m----> 5\u001b[0m time\u001b[38;5;241m.\u001b[39msleep(\u001b[38;5;241m1\u001b[39m)\n\u001b[0;32m      6\u001b[0m display(clear \u001b[38;5;241m=\u001b[39m \u001b[38;5;28;01mTrue\u001b[39;00m)\n",
      "\u001b[1;31mKeyboardInterrupt\u001b[0m: "
     ]
    }
   ],
   "source": [
    "show_time()"
   ]
  },
  {
   "cell_type": "code",
   "execution_count": null,
   "id": "c9dabf10-b34d-4f99-ae29-bd6a71f1a782",
   "metadata": {},
   "outputs": [],
   "source": []
  }
 ],
 "metadata": {
  "kernelspec": {
   "display_name": "Python 3 (ipykernel)",
   "language": "python",
   "name": "python3"
  },
  "language_info": {
   "codemirror_mode": {
    "name": "ipython",
    "version": 3
   },
   "file_extension": ".py",
   "mimetype": "text/x-python",
   "name": "python",
   "nbconvert_exporter": "python",
   "pygments_lexer": "ipython3",
   "version": "3.12.4"
  }
 },
 "nbformat": 4,
 "nbformat_minor": 5
}
