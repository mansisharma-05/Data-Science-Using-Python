{
 "cells": [
  {
   "cell_type": "code",
   "execution_count": 5,
   "id": "a17e5708-411b-42ed-90f5-04f0d59b6f3c",
   "metadata": {},
   "outputs": [],
   "source": [
    "#Q1\n",
    "# #List:-\n",
    "# they are mutable,\n",
    "# it uses [] ,\n",
    "# it contains all datatype,\n",
    "# eg:- list = [1,2,3,4]\n",
    "# #Tuple:-\n",
    "# they are immutable,\n",
    "# it uses,\n",
    "# it cannot contain all datatype (),\n",
    "# eg:- tuple =(1,8,6,7)"
   ]
  },
  {
   "cell_type": "code",
   "execution_count": 11,
   "id": "1872ec5c-9071-4e1f-8f2f-1302d0e780be",
   "metadata": {},
   "outputs": [
    {
     "name": "stdin",
     "output_type": "stream",
     "text": [
      "Enter your Input: 5\n"
     ]
    },
    {
     "name": "stdout",
     "output_type": "stream",
     "text": [
      "5\n"
     ]
    }
   ],
   "source": [
    "#Q2\n",
    "#input() function is used to input any data\n",
    "a = int(input('Enter your Input:'))\n",
    "print(a)"
   ]
  },
  {
   "cell_type": "code",
   "execution_count": 34,
   "id": "26149dd8-1f40-428f-9c95-ec8927218d47",
   "metadata": {},
   "outputs": [
    {
     "ename": "SyntaxError",
     "evalue": "invalid syntax (948090567.py, line 4)",
     "output_type": "error",
     "traceback": [
      "\u001b[1;36m  Cell \u001b[1;32mIn[34], line 4\u001b[1;36m\u001b[0m\n\u001b[1;33m    age:20,\u001b[0m\n\u001b[1;37m       ^\u001b[0m\n\u001b[1;31mSyntaxError\u001b[0m\u001b[1;31m:\u001b[0m invalid syntax\n"
     ]
    }
   ],
   "source": [
    "#Q3\n",
    "#Dictionary store multiple list\n",
    "dict = {'name:''Mansi',\n",
    "       age:20,\n",
    "      'section:''M2'}\n",
    "print(dict)"
   ]
  },
  {
   "cell_type": "code",
   "execution_count": 40,
   "id": "3fab48a2-8fad-4b61-941a-76050e13ff3e",
   "metadata": {},
   "outputs": [
    {
     "ename": "IndentationError",
     "evalue": "expected an indented block after 'if' statement on line 4 (3675302385.py, line 5)",
     "output_type": "error",
     "traceback": [
      "\u001b[1;36m  Cell \u001b[1;32mIn[40], line 5\u001b[1;36m\u001b[0m\n\u001b[1;33m    print(num)\u001b[0m\n\u001b[1;37m    ^\u001b[0m\n\u001b[1;31mIndentationError\u001b[0m\u001b[1;31m:\u001b[0m expected an indented block after 'if' statement on line 4\n"
     ]
    }
   ],
   "source": [
    "#Q4\n",
    "num= [1,2,3,4,5]\n",
    "for i in range(num):\n",
    "    if 1<=i>=5:\n",
    "    print(num)"
   ]
  },
  {
   "cell_type": "code",
   "execution_count": null,
   "id": "bd95482c-10e3-4469-953d-0f2e59d60761",
   "metadata": {},
   "outputs": [],
   "source": [
    "# Q5\n",
    "#Exception handling in Python is used to hanadle unexected error\n",
    "#Try- try is the part of the code that throw exception\n",
    "#Expect- it is used when \n"
   ]
  },
  {
   "cell_type": "code",
   "execution_count": 48,
   "id": "4e81bbb8-a0fc-46b1-a225-066702e79089",
   "metadata": {},
   "outputs": [
    {
     "name": "stdout",
     "output_type": "stream",
     "text": [
      "78.5\n"
     ]
    }
   ],
   "source": [
    "#Q9\n",
    "r = 5\n",
    "pi = 3.14\n",
    "area = pi*r*r\n",
    "print(area)\n"
   ]
  },
  {
   "cell_type": "code",
   "execution_count": 50,
   "id": "9cb37f3d-8cde-45a5-8c4b-a051a58af3db",
   "metadata": {},
   "outputs": [
    {
     "name": "stdin",
     "output_type": "stream",
     "text": [
      "enter your name: Mansi\n",
      "enter your age: 20\n"
     ]
    },
    {
     "name": "stdout",
     "output_type": "stream",
     "text": [
      "Hello Mansi you are 20 year old!\n"
     ]
    }
   ],
   "source": [
    "#Q10\n",
    "name = input('enter your name:')\n",
    "age = input('enter your age:')\n",
    "print('Hello',name,'you are',age,'year old!')"
   ]
  },
  {
   "cell_type": "code",
   "execution_count": 52,
   "id": "0b80096e-32b3-41a3-b10b-9372553a4836",
   "metadata": {},
   "outputs": [
    {
     "name": "stdout",
     "output_type": "stream",
     "text": [
      "apple\n",
      "banana\n",
      "mango\n",
      "peach\n",
      "strawbwrry\n"
     ]
    }
   ],
   "source": [
    "#Q11\n",
    "list = ['apple','banana','mango','peach','strawbwrry']\n",
    "print(list[0])\n",
    "print(list[1])\n",
    "print(list[2])\n",
    "print(list[3])\n",
    "print(list[4])"
   ]
  },
  {
   "cell_type": "code",
   "execution_count": 74,
   "id": "53c22202-5515-41e1-89bf-f9e640012cb9",
   "metadata": {},
   "outputs": [
    {
     "name": "stdin",
     "output_type": "stream",
     "text": [
      "Enter maths marks: 97\n",
      "Enter hindi marks: 96\n",
      "Enter english marks: 87\n",
      "Enter science marks: 38\n",
      "Enter sst marks: 78\n"
     ]
    },
    {
     "name": "stdout",
     "output_type": "stream",
     "text": [
      "79.2\n"
     ]
    },
    {
     "data": {
      "text/plain": [
       "'A'"
      ]
     },
     "execution_count": 74,
     "metadata": {},
     "output_type": "execute_result"
    }
   ],
   "source": [
    "#Q12\n",
    "def grade_calculator():\n",
    "    maths = int(input('Enter maths marks:'))\n",
    "    hindi = int(input('Enter hindi marks:'))\n",
    "    english = int(input('Enter english marks:'))\n",
    "    science = int(input('Enter science marks:'))\n",
    "    sst = int(input('Enter sst marks:'))\n",
    "    final_score= (maths+hindi+english+science+sst)/5\n",
    "    print(final_score)\n",
    "\n",
    "    if 90>=final_score<=100:\n",
    "        return('A')\n",
    "    elif 80>=final_score<=89:\n",
    "        return('B')\n",
    "    elif 70>=final_score<=79:\n",
    "        return('C')\n",
    "    elif 60>=final_score<=69:\n",
    "        return('D')\n",
    "    else:\n",
    "        return('F')\n",
    "\n",
    "grade_calculator()"
   ]
  },
  {
   "cell_type": "code",
   "execution_count": 80,
   "id": "b38aacec-5584-44ee-a176-af9a49488abf",
   "metadata": {},
   "outputs": [
    {
     "name": "stdout",
     "output_type": "stream",
     "text": [
      "Done\n"
     ]
    }
   ],
   "source": [
    "#Q13\n",
    "def sum_numbers_file(input_file=\"numbers.txt\", output_file=\"result.txt\"):\n",
    "    total = 0.0\n",
    "    try:\n",
    "        with open(input_file, 'r') as infile:\n",
    "            for line_num, line in enumerate(infile, start=1):\n",
    "                line = line.strip()\n",
    "                if not line:\n",
    "                    continue \n",
    "                try:\n",
    "                    num = float(line)\n",
    "                except ValueError:\n",
    "                    print(f\"Warning: skipping invalid number on line {line_num}: '{line}'\")\n",
    "                    continue\n",
    "                total += num\n",
    "    except FileNotFoundError:\n",
    "        print(f\"Error: '{input_file}' not found.\")\n",
    "        return\n",
    "    except IOError as e:\n",
    "        print(f\"Error reading '{input_file}': {e}\")\n",
    "        return\n",
    "\n",
    "    try:\n",
    "        with open(output_file, 'w') as outfile:\n",
    "            outfile.write(f\"{total}\\n\")\n",
    "    except IOError as e:\n",
    "        print(f\"Error writing '{output_file}': {e}\")\n",
    "        return\n",
    "\n",
    "    print(f\"Sum of numbers = {total} (written to '{output_file}')\")\n",
    "\n",
    "if name == '_main_':\n",
    "    sum_numbers_file()\n",
    "\n",
    "print('Done')"
   ]
  },
  {
   "cell_type": "code",
   "execution_count": 82,
   "id": "ca021905-3d95-49d0-b8de-7967154eb346",
   "metadata": {},
   "outputs": [],
   "source": [
    "#Q14\n",
    "class BankAccount:\n",
    "    def _init_(self, holder_name: str, starting_balance: float = 0.0):\n",
    "        self.holder_name = holder_name\n",
    "        self.balance = float(starting_balance)\n",
    "\n",
    "    def deposit(self, amount: float):\n",
    "        if amount <= 0:\n",
    "            print(\"Deposit amount must be positive.\")\n",
    "            return\n",
    "        self.balance += amount\n",
    "        print(f\"Deposited {amount:.2f}. New balance: {self.balance:.2f}\")\n",
    "\n",
    "    def withdraw(self, amount: float):\n",
    "        if amount <= 0:\n",
    "            print(\"Withdrawal amount must be positive.\")\n",
    "            return\n",
    "        if amount > self.balance:\n",
    "            print(f\"Insufficient funds: available {self.balance:.2f}, tried to withdraw {amount:.2f}\")\n",
    "        else:\n",
    "            self.balance -= amount\n",
    "            print(f\"Withdrew {amount:.2f}. New balance: {self.balance:.2f}\")\n",
    "\n",
    "    def display_balance(self):\n",
    "        print(f\"{self.holder_name}'s account balance: {self.balance:.2f}\")\n"
   ]
  },
  {
   "cell_type": "code",
   "execution_count": 92,
   "id": "ae4c86e0-d04c-4ebf-99c4-81f52228f946",
   "metadata": {},
   "outputs": [
    {
     "name": "stdout",
     "output_type": "stream",
     "text": [
      "it is prime\n",
      "it is prime\n",
      "it is prime\n",
      "it is prime\n",
      "it is prime\n",
      "it is prime\n",
      "it is prime\n",
      "it is prime\n",
      "it is prime\n",
      "it is prime\n",
      "it is prime\n",
      "it is prime\n",
      "it is prime\n",
      "it is prime\n",
      "it is prime\n",
      "it is prime\n",
      "it is prime\n",
      "it is prime\n",
      "it is prime\n",
      "it is prime\n",
      "it is prime\n",
      "it is prime\n",
      "it is prime\n",
      "it is prime\n",
      "it is prime\n",
      "it is prime\n",
      "it is prime\n",
      "it is prime\n",
      "it is prime\n",
      "it is prime\n",
      "it is prime\n",
      "it is prime\n",
      "it is prime\n",
      "it is prime\n",
      "it is prime\n",
      "it is prime\n",
      "it is prime\n",
      "it is prime\n",
      "it is prime\n",
      "it is prime\n",
      "it is prime\n",
      "it is prime\n",
      "it is prime\n",
      "it is prime\n",
      "it is prime\n",
      "it is prime\n",
      "it is prime\n",
      "it is prime\n",
      "it is prime\n"
     ]
    }
   ],
   "source": [
    "#Q15\n",
    "n = 5\n",
    "\n",
    "for i in range(1,50):\n",
    "    if n%2==0:\n",
    "        print('it is not a prime')\n",
    "    else:\n",
    "        print('it is prime')\n",
    "    "
   ]
  },
  {
   "cell_type": "code",
   "execution_count": null,
   "id": "328bfde1-3184-429a-a9b4-b9730c1ab8f9",
   "metadata": {},
   "outputs": [],
   "source": []
  }
 ],
 "metadata": {
  "kernelspec": {
   "display_name": "Python 3 (ipykernel)",
   "language": "python",
   "name": "python3"
  },
  "language_info": {
   "codemirror_mode": {
    "name": "ipython",
    "version": 3
   },
   "file_extension": ".py",
   "mimetype": "text/x-python",
   "name": "python",
   "nbconvert_exporter": "python",
   "pygments_lexer": "ipython3",
   "version": "3.12.4"
  }
 },
 "nbformat": 4,
 "nbformat_minor": 5
}
