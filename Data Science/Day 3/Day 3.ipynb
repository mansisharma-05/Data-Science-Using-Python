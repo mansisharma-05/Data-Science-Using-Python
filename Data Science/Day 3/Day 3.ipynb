{
 "cells": [
  {
   "cell_type": "code",
   "execution_count": 13,
   "id": "4b4f81fe-633a-4d45-a34f-4272d900aa11",
   "metadata": {},
   "outputs": [
    {
     "name": "stdout",
     "output_type": "stream",
     "text": [
      "something went wrong!!\n",
      "Invalid datatype comparison!!\n"
     ]
    }
   ],
   "source": [
    "#Exception handling\n",
    "\n",
    "age='23'\n",
    "\n",
    "try:\n",
    "    if age >= 18:\n",
    "        print('can vote')\n",
    "    else:\n",
    "        print('can\\'t vote')\n",
    "except TypeError:\n",
    "    print('something went wrong!!')\n",
    "    print('Invalid datatype comparison!!')\n",
    "\n",
    "except:\n",
    "    print('Invalid Code!!')\n"
   ]
  },
  {
   "cell_type": "code",
   "execution_count": null,
   "id": "cc3a52fb-cc32-4590-b5f3-f428e8682d7f",
   "metadata": {},
   "outputs": [],
   "source": []
  },
  {
   "cell_type": "code",
   "execution_count": null,
   "id": "fe7f5ee4-ece3-4aa3-9ce6-77bef13cc972",
   "metadata": {},
   "outputs": [],
   "source": []
  },
  {
   "cell_type": "code",
   "execution_count": null,
   "id": "1881cba6-a511-4406-b41a-1a837bf1aa97",
   "metadata": {},
   "outputs": [],
   "source": []
  },
  {
   "cell_type": "code",
   "execution_count": null,
   "id": "6420a9dc-5921-4bf0-b090-50ac1a2fa6f7",
   "metadata": {},
   "outputs": [],
   "source": []
  },
  {
   "cell_type": "code",
   "execution_count": null,
   "id": "4e8f0c1d-7351-4ec1-b897-51f45d68bac9",
   "metadata": {},
   "outputs": [],
   "source": []
  },
  {
   "cell_type": "code",
   "execution_count": null,
   "id": "fa468fc0-bbe3-433b-b8f4-166c269d3e24",
   "metadata": {},
   "outputs": [],
   "source": []
  },
  {
   "cell_type": "code",
   "execution_count": null,
   "id": "f68f8329-9fa4-4bdc-aac6-6ee545be1bda",
   "metadata": {},
   "outputs": [],
   "source": []
  },
  {
   "cell_type": "code",
   "execution_count": 1,
   "id": "a5a98c24-d785-4ddd-88b7-5bf6c2e9261e",
   "metadata": {},
   "outputs": [
    {
     "name": "stdout",
     "output_type": "stream",
     "text": [
      "This is Mansi Module in Python\n",
      "Info: https://www.google.com/\n",
      "Done!!\n"
     ]
    }
   ],
   "source": [
    "import mansi as m\n",
    "print('Done!!')"
   ]
  },
  {
   "cell_type": "code",
   "execution_count": 1,
   "id": "af8c4559-1c47-44cc-aed2-679ff1e9ffc5",
   "metadata": {},
   "outputs": [
    {
     "name": "stdout",
     "output_type": "stream",
     "text": [
      "This is Mansi Module in Python\n",
      "Info: https://www.google.com/\n"
     ]
    },
    {
     "ename": "NameError",
     "evalue": "name 'sp' is not defined",
     "output_type": "error",
     "traceback": [
      "\u001b[1;31m---------------------------------------------------------------------------\u001b[0m",
      "\u001b[1;31mNameError\u001b[0m                                 Traceback (most recent call last)",
      "Cell \u001b[1;32mIn[1], line 2\u001b[0m\n\u001b[0;32m      1\u001b[0m \u001b[38;5;28;01mimport\u001b[39;00m \u001b[38;5;21;01mmansi\u001b[39;00m \u001b[38;5;28;01mas\u001b[39;00m \u001b[38;5;21;01mm\u001b[39;00m\n\u001b[1;32m----> 2\u001b[0m m\u001b[38;5;241m.\u001b[39mprint_star(n \u001b[38;5;241m=\u001b[39m \u001b[38;5;241m7\u001b[39m,typ \u001b[38;5;241m=\u001b[39m\u001b[38;5;124m'\u001b[39m\u001b[38;5;124m mid\u001b[39m\u001b[38;5;124m'\u001b[39m,shape \u001b[38;5;241m=\u001b[39m\u001b[38;5;124m'\u001b[39m\u001b[38;5;124m$\u001b[39m\u001b[38;5;124m'\u001b[39m)\n",
      "File \u001b[1;32m~\\mansi.py:45\u001b[0m, in \u001b[0;36mprint_star\u001b[1;34m(n, typ, shape)\u001b[0m\n\u001b[0;32m     42\u001b[0m     sp \u001b[38;5;241m=\u001b[39m \u001b[38;5;124m'\u001b[39m\u001b[38;5;124m \u001b[39m\u001b[38;5;124m'\u001b[39m\n\u001b[0;32m     44\u001b[0m \u001b[38;5;28;01mfor\u001b[39;00m i \u001b[38;5;129;01min\u001b[39;00m \u001b[38;5;28mrange\u001b[39m(\u001b[38;5;241m1\u001b[39m,n\u001b[38;5;241m+\u001b[39m\u001b[38;5;241m1\u001b[39m):\n\u001b[1;32m---> 45\u001b[0m     \u001b[38;5;28mprint\u001b[39m(sp)\n",
      "\u001b[1;31mNameError\u001b[0m: name 'sp' is not defined"
     ]
    }
   ],
   "source": [
    "import mansi as m\n",
    "m.print_star(n = 7,typ =' mid',shape ='$')"
   ]
  },
  {
   "cell_type": "code",
   "execution_count": null,
   "id": "5a2bea58-d1d9-419a-88a9-73dee64922ac",
   "metadata": {},
   "outputs": [],
   "source": []
  },
  {
   "cell_type": "code",
   "execution_count": 1,
   "id": "592dd2f4-0e3b-4d94-84c4-211bf013b593",
   "metadata": {},
   "outputs": [
    {
     "name": "stdout",
     "output_type": "stream",
     "text": [
      "This is Mansi Module in Python\n",
      "Info: https://www.google.com/\n"
     ]
    }
   ],
   "source": [
    "import man as m"
   ]
  },
  {
   "cell_type": "code",
   "execution_count": 5,
   "id": "15669ef8-5252-45d7-ae62-8b51d3403757",
   "metadata": {},
   "outputs": [
    {
     "name": "stdout",
     "output_type": "stream",
     "text": [
      "      # \n",
      "     # # \n",
      "    # # # \n",
      "   # # # # \n",
      "  # # # # # \n",
      " # # # # # # \n",
      "# # # # # # # \n"
     ]
    }
   ],
   "source": [
    "m.print_star(n =7,typ ='mid',shape ='#')"
   ]
  },
  {
   "cell_type": "code",
   "execution_count": 7,
   "id": "551cb403-eac0-4247-a7a7-df42046f3f5a",
   "metadata": {},
   "outputs": [
    {
     "data": {
      "text/plain": [
       "[0, 1, 1, 2, 3, 5, 8, 13, 21, 34, 55, 89]"
      ]
     },
     "execution_count": 7,
     "metadata": {},
     "output_type": "execute_result"
    }
   ],
   "source": [
    "m.give_fibo(12)"
   ]
  },
  {
   "cell_type": "code",
   "execution_count": 9,
   "id": "c51addc0-ca31-4477-96af-8a48cb905425",
   "metadata": {},
   "outputs": [
    {
     "data": {
      "text/plain": [
       "55"
      ]
     },
     "execution_count": 9,
     "metadata": {},
     "output_type": "execute_result"
    }
   ],
   "source": [
    "m.sum_of_n_natural_numbers(10)"
   ]
  },
  {
   "cell_type": "code",
   "execution_count": 11,
   "id": "eb1429c9-2b64-4b50-aa34-3ca632e0478a",
   "metadata": {},
   "outputs": [
    {
     "data": {
      "text/plain": [
       "'Not a Prime Number'"
      ]
     },
     "execution_count": 11,
     "metadata": {},
     "output_type": "execute_result"
    }
   ],
   "source": [
    "m.check_prime(121)"
   ]
  },
  {
   "cell_type": "code",
   "execution_count": 16,
   "id": "59c7c527-e7c2-4957-8891-a650c2c796e3",
   "metadata": {},
   "outputs": [],
   "source": [
    "m.sound_box(150)"
   ]
  },
  {
   "cell_type": "code",
   "execution_count": 18,
   "id": "4fb0c76d-ceef-4e91-a29a-a37ca90c9313",
   "metadata": {},
   "outputs": [
    {
     "data": {
      "text/plain": [
       "'Palindrome'"
      ]
     },
     "execution_count": 18,
     "metadata": {},
     "output_type": "execute_result"
    }
   ],
   "source": [
    "m.check_palindrome('nitin')"
   ]
  },
  {
   "cell_type": "code",
   "execution_count": 20,
   "id": "540c1eaf-db4c-48dc-98da-7b1c7a992e07",
   "metadata": {},
   "outputs": [
    {
     "data": {
      "text/plain": [
       "645"
      ]
     },
     "execution_count": 20,
     "metadata": {},
     "output_type": "execute_result"
    }
   ],
   "source": [
    "m.maxx(645,484,64,612,4,16)"
   ]
  },
  {
   "cell_type": "code",
   "execution_count": 22,
   "id": "c17b9ca5-6cea-4664-a3c5-9bc9acb1f3ff",
   "metadata": {},
   "outputs": [
    {
     "data": {
      "text/plain": [
       "54"
      ]
     },
     "execution_count": 22,
     "metadata": {},
     "output_type": "execute_result"
    }
   ],
   "source": [
    "m.minn(6152,484,58,1484,54,845)"
   ]
  },
  {
   "cell_type": "code",
   "execution_count": 26,
   "id": "bae1b513-dfe5-4d97-ae29-482c81003aab",
   "metadata": {},
   "outputs": [
    {
     "name": "stdout",
     "output_type": "stream",
     "text": [
      "Done\n"
     ]
    }
   ],
   "source": [
    "from man import minn\n",
    "print('Done')"
   ]
  },
  {
   "cell_type": "code",
   "execution_count": 28,
   "id": "e35455d3-b5d6-4540-9b49-4700c69a0b8b",
   "metadata": {},
   "outputs": [
    {
     "name": "stdout",
     "output_type": "stream",
     "text": [
      "Done\n"
     ]
    }
   ],
   "source": [
    "from man import students_records\n",
    "print('Done')"
   ]
  },
  {
   "cell_type": "code",
   "execution_count": 32,
   "id": "2eef183d-3ec5-4308-bdbd-25d5120d7a61",
   "metadata": {},
   "outputs": [
    {
     "data": {
      "text/html": [
       "<div>\n",
       "<style scoped>\n",
       "    .dataframe tbody tr th:only-of-type {\n",
       "        vertical-align: middle;\n",
       "    }\n",
       "\n",
       "    .dataframe tbody tr th {\n",
       "        vertical-align: top;\n",
       "    }\n",
       "\n",
       "    .dataframe thead th {\n",
       "        text-align: right;\n",
       "    }\n",
       "</style>\n",
       "<table border=\"1\" class=\"dataframe\">\n",
       "  <thead>\n",
       "    <tr style=\"text-align: right;\">\n",
       "      <th></th>\n",
       "      <th>name</th>\n",
       "      <th>age</th>\n",
       "    </tr>\n",
       "  </thead>\n",
       "  <tbody>\n",
       "    <tr>\n",
       "      <th>1</th>\n",
       "      <td>Mansi</td>\n",
       "      <td>20</td>\n",
       "    </tr>\n",
       "  </tbody>\n",
       "</table>\n",
       "</div>"
      ],
      "text/plain": [
       "    name  age\n",
       "1  Mansi   20"
      ]
     },
     "execution_count": 32,
     "metadata": {},
     "output_type": "execute_result"
    }
   ],
   "source": [
    "students_records(name = 'Mansi',age = 20)"
   ]
  },
  {
   "cell_type": "code",
   "execution_count": 34,
   "id": "c70636d2-c14e-4cba-8193-dcf29f13aeef",
   "metadata": {},
   "outputs": [
    {
     "name": "stdout",
     "output_type": "stream",
     "text": [
      "Done\n"
     ]
    }
   ],
   "source": [
    "from man import *\n",
    "print('Done')"
   ]
  },
  {
   "cell_type": "code",
   "execution_count": 36,
   "id": "e165a996-78df-4c95-b687-2f0f4d46d643",
   "metadata": {},
   "outputs": [
    {
     "data": {
      "text/plain": [
       "1035"
      ]
     },
     "execution_count": 36,
     "metadata": {},
     "output_type": "execute_result"
    }
   ],
   "source": [
    "sum_of_n_natural_numbers(45)"
   ]
  },
  {
   "cell_type": "code",
   "execution_count": 38,
   "id": "4f29bf9b-b6d2-46d9-80cf-e57df6e24d0e",
   "metadata": {},
   "outputs": [
    {
     "name": "stdout",
     "output_type": "stream",
     "text": [
      "Done\n"
     ]
    }
   ],
   "source": [
    "import turtle\n",
    "print('Done')"
   ]
  },
  {
   "cell_type": "code",
   "execution_count": 1,
   "id": "6f759e09-121e-4b6f-90d5-9f3ffde35902",
   "metadata": {},
   "outputs": [],
   "source": [
    "# pip install turtle"
   ]
  },
  {
   "cell_type": "code",
   "execution_count": 17,
   "id": "a648f4ec-e2cd-4560-9ba4-ade1a355f967",
   "metadata": {},
   "outputs": [],
   "source": [
    "import turtle\n",
    "for i in range (120):\n",
    "    turtle.speed(0)\n",
    "    turtle.bgcolor('black')\n",
    "    col = ['red','yellow','green','blue','pink']\n",
    "    import random\n",
    "    picked_color = random.choice(col)\n",
    "    turtle.color(picked_color)\n",
    "    turtle.circle(100)\n",
    "    turtle.left(3)"
   ]
  },
  {
   "cell_type": "code",
   "execution_count": 1,
   "id": "f634a531-0f91-476f-893e-fa3df2f13f25",
   "metadata": {},
   "outputs": [],
   "source": [
    "import turtle\n",
    "for i in range(3):\n",
    "    turtle.bgcolor('black')\n",
    "    turtle.color('cyan')\n",
    "    turtle.forward(150)\n",
    "    turtle.left(60)"
   ]
  },
  {
   "cell_type": "code",
   "execution_count": null,
   "id": "30b78cce-4c95-4d2f-9479-6462bb48dac9",
   "metadata": {},
   "outputs": [],
   "source": []
  },
  {
   "cell_type": "code",
   "execution_count": null,
   "id": "1cd40fe6-997c-4c4f-b50b-9647c426d282",
   "metadata": {},
   "outputs": [],
   "source": [
    "#File Handling"
   ]
  },
  {
   "cell_type": "code",
   "execution_count": 8,
   "id": "d6742fcf-f787-4e7f-ba60-28411e6597d0",
   "metadata": {},
   "outputs": [],
   "source": [
    "#Types of files:-\n",
    "# 1:- Text Files\n",
    "# eg-.py, .html, .tsv, .css, .java, .c, .cpp, .json, .js\n",
    "# 2:- Binary Files(uses software to run file)\n",
    "# eg- .pdf, .mp3, .mp4, .png, .jpeg, .exe, .zip, .dat, .tar, .xlxs, .ppt, .doc, .ipynb"
   ]
  },
  {
   "cell_type": "code",
   "execution_count": 12,
   "id": "59d1a7e3-9c44-4544-bccb-52604af50500",
   "metadata": {},
   "outputs": [],
   "source": [
    "#handling:- read, write, copy, append, delete, open, close"
   ]
  },
  {
   "cell_type": "code",
   "execution_count": 14,
   "id": "6e219a79-db25-4cde-86f0-f7e9b03795f4",
   "metadata": {},
   "outputs": [],
   "source": [
    "#context manager"
   ]
  },
  {
   "cell_type": "code",
   "execution_count": 84,
   "id": "5a27a18c-fd45-4acd-aafb-4c85003b6394",
   "metadata": {},
   "outputs": [
    {
     "name": "stdout",
     "output_type": "stream",
     "text": [
      "print('''This is Mansi Module in Python\n",
      "Info: https://www.google.com/''')\n",
      "\n",
      "def check_palindrome(word\n"
     ]
    }
   ],
   "source": [
    "file = open('man.py',mode = 'r')\n",
    "print(file.read(100))\n",
    "file.close()"
   ]
  },
  {
   "cell_type": "code",
   "execution_count": 24,
   "id": "2bf68e1f-a77a-4d90-bf21-a6262a1fd383",
   "metadata": {},
   "outputs": [
    {
     "name": "stdout",
     "output_type": "stream",
     "text": [
      "print('''This is Mansi Module in Python\n",
      "Info: https://www.google.com/''')\n",
      "\n",
      "def check_palindrome(word:str):\n",
      "    if type(word) == str:\n",
      "        word = word.upper()\n",
      "        if word == word[::-1]:\n",
      "            return 'Palindrome'\n",
      "        else:\n",
      "            return 'Not Palindrome'\n",
      "    else:\n",
      "        return 'Invalid Data Type'\n",
      "\n",
      "\n",
      "def give_fibo(n):\n",
      "    fibo = [0,1]\n",
      "    for i in range(n-2):\n",
      "        last_num = fibo[-1]\n",
      "        second_last_num = fibo[-2]\n",
      "        next_num = last_num + second_last_num\n",
      "        fibo.append(next_num)\n",
      "    return fibo\n",
      "\n",
      "\n",
      "def check_prime(number):\n",
      "    for i in range(2,number):\n",
      "        if number % i == 0:\n",
      "            return 'Not a Prime Number'\n",
      "            break\n",
      "    else:\n",
      "        return 'Prime Number'\n",
      "\n",
      "def print_star(n=5, typ = 'left',shape = '*'):\n",
      "    global sp\n",
      "    if typ == 'left':\n",
      "        sp = ''\n",
      "\n",
      "    elif typ == 'right':\n",
      "        sp = '  '\n",
      "\n",
      "    elif typ == 'mid':\n",
      "        sp = ' '\n",
      "    \n",
      "    for i in range(1,n+1):\n",
      "        print(sp*(n-i) + i*f'{shape} ')\n",
      "\n",
      "\n",
      "def sum_of_n_natural_numbers(n):\n",
      "    result = 0\n",
      "    for i in range(1,n+1):\n",
      "        result += i\n",
      "    return result\n",
      "\n",
      "\n",
      "def factorial(n):\n",
      "    result = 1\n",
      "    for i in range(1,n+1):\n",
      "        result *= i\n",
      "    return result\n",
      "\n",
      "\n",
      "def total_sales(*args):#unpacking(holds more than one elements)\n",
      "    result = 0\n",
      "    for i in args:\n",
      "        result += i\n",
      "    return result\n",
      "\n",
      "\n",
      "def minn(*data):\n",
      "    min_ele = data[0]\n",
      "    for i in data[1:]:\n",
      "        if i< min_ele:\n",
      "            min_ele = i\n",
      "    return min_ele\n",
      "\n",
      "\n",
      "def maxx(*data):\n",
      "    max_ele = data[0]\n",
      "    for i in data[1:]:\n",
      "        if i> max_ele:\n",
      "            max_ele = i\n",
      "    return max_ele\n",
      "\n",
      "\n",
      "def students_records(**kwargs): #kwargs is keyword argument(dictionary form)\n",
      "    # print(kwargs)\n",
      "    #try exception\n",
      "\n",
      "    import pandas as pd\n",
      "    try:\n",
      "        result = pd.DataFrame(kwargs)\n",
      "        return result\n",
      "    except:\n",
      "        result = pd.DataFrame(kwargs,index = [1])\n",
      "        return result\n",
      "\n",
      "\n",
      "def show_time():\n",
      "    try:\n",
      "        while True:\n",
      "            import time\n",
      "            print(time.asctime())\n",
      "            time.sleep(1)\n",
      "            display(clear = True)\n",
      "    except:\n",
      "        print('Timer has been Stopped!!!')\n",
      "\n",
      "\n",
      "def sound_box(amount,platform = 'Paytm'):\n",
      "    from gtts import gTTS\n",
      "    text = f'''{platform} par {amount} rs Prapt hue.'''\n",
      "    audio = gTTS(text)\n",
      "    audio.save('paytm.mp3')\n",
      "    \n",
      "    import pygame as p\n",
      "    p.init()\n",
      "    \n",
      "    music = p.mixer.Sound('paytm.mp3')\n",
      "    music.play()\n",
      "\n",
      "\n"
     ]
    }
   ],
   "source": [
    "file = open('man.py',mode = 'r')\n",
    "print(file.read())\n",
    "file.close()"
   ]
  },
  {
   "cell_type": "code",
   "execution_count": 82,
   "id": "bea07107-62b0-417a-96fd-514c98cd35ea",
   "metadata": {},
   "outputs": [
    {
     "name": "stdout",
     "output_type": "stream",
     "text": [
      "2362574674976\n",
      "2362574674976\n",
      "2362574674976\n"
     ]
    }
   ],
   "source": [
    "a ='Mansi'\n",
    "b ='Mansi'\n",
    "C ='Mansi'\n",
    "print(id(a))\n",
    "print(id(b))\n",
    "print(id(C))"
   ]
  },
  {
   "cell_type": "code",
   "execution_count": 76,
   "id": "5f55bcf8-e5cb-4eb6-ae13-955a57615d32",
   "metadata": {},
   "outputs": [],
   "source": [
    "f = open('man.py',mode = 'r')\n"
   ]
  },
  {
   "cell_type": "code",
   "execution_count": 78,
   "id": "06aa91ab-d18a-47b4-939e-298caeda01b7",
   "metadata": {},
   "outputs": [
    {
     "name": "stdout",
     "output_type": "stream",
     "text": [
      "print('''This is Mansi Module in Python\n",
      "\n"
     ]
    }
   ],
   "source": [
    "print(f.readline())"
   ]
  },
  {
   "cell_type": "code",
   "execution_count": 96,
   "id": "2da5e77a-c70a-4c92-a611-1000e6706eea",
   "metadata": {},
   "outputs": [
    {
     "name": "stdout",
     "output_type": "stream",
     "text": [
      "Done!\n"
     ]
    }
   ],
   "source": [
    "f.close()\n",
    "print('Done!')"
   ]
  },
  {
   "cell_type": "code",
   "execution_count": 100,
   "id": "5b3c7b84-0340-48b9-9a64-6edeb2350938",
   "metadata": {},
   "outputs": [
    {
     "name": "stdout",
     "output_type": "stream",
     "text": [
      "print('''This is Mansi Module in Python\n",
      "\n",
      "Info: https://www.google.com/''')\n",
      "\n",
      "\n",
      "\n",
      "def check_palindrome(word:str):\n",
      "\n",
      "    if type(word) == str:\n",
      "\n",
      "        word = word.upper()\n",
      "\n",
      "        if word == word[::-1]:\n",
      "\n",
      "            return 'Palindrome'\n",
      "\n",
      "        else:\n",
      "\n",
      "            return 'Not Palindrome'\n",
      "\n"
     ]
    }
   ],
   "source": [
    "f = open('man.py',mode = 'r')\n",
    "for i in range(10):\n",
    "    print(f.readline())"
   ]
  },
  {
   "cell_type": "code",
   "execution_count": 102,
   "id": "09dfb6b5-f15b-40d3-bc9c-e8e8f523c5f0",
   "metadata": {},
   "outputs": [
    {
     "name": "stdout",
     "output_type": "stream",
     "text": [
      "            return 'Palindrome'\n",
      "\n"
     ]
    }
   ],
   "source": [
    "f = open('man.py',mode = 'r')\n",
    "for i in range(10):\n",
    "    if i == 7: #line no-8\n",
    "        print(f.readline())\n",
    "    else:\n",
    "        f.readline()"
   ]
  },
  {
   "cell_type": "code",
   "execution_count": 119,
   "id": "d2391855-6eac-4235-8e4f-1de658605b95",
   "metadata": {},
   "outputs": [
    {
     "name": "stdout",
     "output_type": "stream",
     "text": [
      "Done!!\n"
     ]
    }
   ],
   "source": [
    "f = open('man.py',mode = 'r')\n",
    "data = f.readlines()\n",
    "f.close()\n",
    "print('Done!!')"
   ]
  },
  {
   "cell_type": "code",
   "execution_count": 121,
   "id": "a433e4bf-b0fb-4e55-9490-79406c24fda0",
   "metadata": {},
   "outputs": [
    {
     "name": "stdout",
     "output_type": "stream",
     "text": [
      "[\"print('''This is Mansi Module in Python\\n\", \"Info: https://www.google.com/''')\\n\", '\\n', 'def check_palindrome(word:str):\\n', '    if type(word) == str:\\n', '        word = word.upper()\\n', '        if word == word[::-1]:\\n', \"            return 'Palindrome'\\n\", '        else:\\n', \"            return 'Not Palindrome'\\n\", '    else:\\n', \"        return 'Invalid Data Type'\\n\", '\\n', '\\n', 'def give_fibo(n):\\n', '    fibo = [0,1]\\n', '    for i in range(n-2):\\n', '        last_num = fibo[-1]\\n', '        second_last_num = fibo[-2]\\n', '        next_num = last_num + second_last_num\\n', '        fibo.append(next_num)\\n', '    return fibo\\n', '\\n', '\\n', 'def check_prime(number):\\n', '    for i in range(2,number):\\n', '        if number % i == 0:\\n', \"            return 'Not a Prime Number'\\n\", '            break\\n', '    else:\\n', \"        return 'Prime Number'\\n\", '\\n', \"def print_star(n=5, typ = 'left',shape = '*'):\\n\", '    global sp\\n', \"    if typ == 'left':\\n\", \"        sp = ''\\n\", '\\n', \"    elif typ == 'right':\\n\", \"        sp = '  '\\n\", '\\n', \"    elif typ == 'mid':\\n\", \"        sp = ' '\\n\", '    \\n', '    for i in range(1,n+1):\\n', \"        print(sp*(n-i) + i*f'{shape} ')\\n\", '\\n', '\\n', 'def sum_of_n_natural_numbers(n):\\n', '    result = 0\\n', '    for i in range(1,n+1):\\n', '        result += i\\n', '    return result\\n', '\\n', '\\n', 'def factorial(n):\\n', '    result = 1\\n', '    for i in range(1,n+1):\\n', '        result *= i\\n', '    return result\\n', '\\n', '\\n', 'def total_sales(*args):#unpacking(holds more than one elements)\\n', '    result = 0\\n', '    for i in args:\\n', '        result += i\\n', '    return result\\n', '\\n', '\\n', 'def minn(*data):\\n', '    min_ele = data[0]\\n', '    for i in data[1:]:\\n', '        if i< min_ele:\\n', '            min_ele = i\\n', '    return min_ele\\n', '\\n', '\\n', 'def maxx(*data):\\n', '    max_ele = data[0]\\n', '    for i in data[1:]:\\n', '        if i> max_ele:\\n', '            max_ele = i\\n', '    return max_ele\\n', '\\n', '\\n', 'def students_records(**kwargs): #kwargs is keyword argument(dictionary form)\\n', '    # print(kwargs)\\n', '    #try exception\\n', '\\n', '    import pandas as pd\\n', '    try:\\n', '        result = pd.DataFrame(kwargs)\\n', '        return result\\n', '    except:\\n', '        result = pd.DataFrame(kwargs,index = [1])\\n', '        return result\\n', '\\n', '\\n', 'def show_time():\\n', '    try:\\n', '        while True:\\n', '            import time\\n', '            print(time.asctime())\\n', '            time.sleep(1)\\n', '            display(clear = True)\\n', '    except:\\n', \"        print('Timer has been Stopped!!!')\\n\", '\\n', '\\n', \"def sound_box(amount,platform = 'Paytm'):\\n\", '    from gtts import gTTS\\n', \"    text = f'''{platform} par {amount} rs Prapt hue.'''\\n\", '    audio = gTTS(text)\\n', \"    audio.save('paytm.mp3')\\n\", '    \\n', '    import pygame as p\\n', '    p.init()\\n', '    \\n', \"    music = p.mixer.Sound('paytm.mp3')\\n\", '    music.play()\\n', '\\n']\n"
     ]
    }
   ],
   "source": [
    "print(data)"
   ]
  },
  {
   "cell_type": "code",
   "execution_count": 125,
   "id": "50c5d08b-9d9d-4ff1-bede-124aa2839f64",
   "metadata": {},
   "outputs": [
    {
     "name": "stdout",
     "output_type": "stream",
     "text": [
      "        word = word.upper()\n",
      "\n"
     ]
    }
   ],
   "source": [
    "print(data[5])"
   ]
  },
  {
   "cell_type": "code",
   "execution_count": 127,
   "id": "f7af3c3b-fd15-4926-be14-d026d2c38da4",
   "metadata": {},
   "outputs": [
    {
     "name": "stdout",
     "output_type": "stream",
     "text": [
      "print('''This is Mansi Module in Python\n",
      "\n",
      "Info: https://www.google.com/''')\n",
      "\n",
      "\n",
      "\n",
      "def check_palindrome(word:str):\n",
      "\n",
      "    if type(word) == str:\n",
      "\n",
      "        word = word.upper()\n",
      "\n",
      "        if word == word[::-1]:\n",
      "\n",
      "            return 'Palindrome'\n",
      "\n",
      "        else:\n",
      "\n",
      "            return 'Not Palindrome'\n",
      "\n",
      "    else:\n",
      "\n",
      "        return 'Invalid Data Type'\n",
      "\n",
      "\n",
      "\n",
      "\n",
      "\n",
      "def give_fibo(n):\n",
      "\n",
      "    fibo = [0,1]\n",
      "\n"
     ]
    }
   ],
   "source": [
    "for i in data[:16]:\n",
    "    print(i)"
   ]
  },
  {
   "cell_type": "code",
   "execution_count": null,
   "id": "0e91b5a4-7e1a-4830-995e-4625a65c108f",
   "metadata": {},
   "outputs": [],
   "source": []
  }
 ],
 "metadata": {
  "kernelspec": {
   "display_name": "Python 3 (ipykernel)",
   "language": "python",
   "name": "python3"
  },
  "language_info": {
   "codemirror_mode": {
    "name": "ipython",
    "version": 3
   },
   "file_extension": ".py",
   "mimetype": "text/x-python",
   "name": "python",
   "nbconvert_exporter": "python",
   "pygments_lexer": "ipython3",
   "version": "3.12.4"
  }
 },
 "nbformat": 4,
 "nbformat_minor": 5
}
