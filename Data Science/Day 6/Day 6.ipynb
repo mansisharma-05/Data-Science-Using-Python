{
 "cells": [
  {
   "cell_type": "code",
   "execution_count": 1,
   "id": "aaec231d-e9ad-4ea4-9725-200ae491b2d7",
   "metadata": {},
   "outputs": [],
   "source": [
    "#Python Basic\n",
    "#Conditional Programming\n",
    "#loops\n",
    "#Functional Programming\n",
    "#Module Creation\n",
    "#File Handling\n",
    "#Database connectivity\n",
    "#OOPs"
   ]
  },
  {
   "cell_type": "code",
   "execution_count": 3,
   "id": "c68766f0-1d6d-44f1-a958-772caf9bd320",
   "metadata": {},
   "outputs": [
    {
     "name": "stdout",
     "output_type": "stream",
     "text": [
      "<class 'str'>\n"
     ]
    }
   ],
   "source": [
    "a ='Mansi'\n",
    "\n",
    "print(type(a))"
   ]
  },
  {
   "cell_type": "code",
   "execution_count": 3,
   "id": "d08b1f06-d327-4565-9f84-a2cbbda221ed",
   "metadata": {},
   "outputs": [],
   "source": [
    "class IITM:\n",
    "\n",
    "    def intro():\n",
    "        print ('Hello buddy!!,How are you?')\n",
    "\n",
    "    def say_hello():\n",
    "        print('Hello')\n",
    "\n",
    "    def bye():\n",
    "        print('Bye Bye!!')\n",
    "\n"
   ]
  },
  {
   "cell_type": "code",
   "execution_count": 7,
   "id": "0164c389-0da2-4a25-8fef-a2015732e50e",
   "metadata": {},
   "outputs": [
    {
     "name": "stdout",
     "output_type": "stream",
     "text": [
      "<class 'int'>\n"
     ]
    }
   ],
   "source": [
    "a = int(45)\n",
    "print(type(a))"
   ]
  },
  {
   "cell_type": "code",
   "execution_count": 5,
   "id": "8f0a890d-2e15-466f-b9d0-a2fd613959d5",
   "metadata": {},
   "outputs": [
    {
     "name": "stdout",
     "output_type": "stream",
     "text": [
      "<class '__main__.IITM'>\n"
     ]
    }
   ],
   "source": [
    "mansi = IITM()\n",
    "print(type(mansi))"
   ]
  },
  {
   "cell_type": "code",
   "execution_count": 36,
   "id": "b67e78e8-7c88-4f91-8706-9e3c12ca9993",
   "metadata": {},
   "outputs": [],
   "source": [
    "class Remote:\n",
    "\n",
    "    def volume_up(self):\n",
    "        print('Volume up by 1 unit') \n",
    "\n",
    "    def volume_down(self):\n",
    "        print('Volume down by 1 unit') \n",
    "\n",
    "    def power_on(self):\n",
    "        print('TV is ON') \n",
    "\n",
    "    def power_off(self):\n",
    "        print('TV is OFF') \n",
    "\n"
   ]
  },
  {
   "cell_type": "code",
   "execution_count": 21,
   "id": "271bd6c5-4df1-4093-9a3a-f83eb0aa0894",
   "metadata": {},
   "outputs": [
    {
     "name": "stdout",
     "output_type": "stream",
     "text": [
      "Done!\n"
     ]
    }
   ],
   "source": [
    "mi = Remote()\n",
    "print('Done!')"
   ]
  },
  {
   "cell_type": "code",
   "execution_count": 27,
   "id": "afc187cd-79c9-496b-a49c-b0fb84565175",
   "metadata": {},
   "outputs": [
    {
     "name": "stdout",
     "output_type": "stream",
     "text": [
      "TV is ON\n"
     ]
    }
   ],
   "source": [
    "mi.power_on()"
   ]
  },
  {
   "cell_type": "code",
   "execution_count": 30,
   "id": "e2589ef5-d1b6-4cb9-9bd8-e34ac36960d2",
   "metadata": {},
   "outputs": [
    {
     "name": "stdout",
     "output_type": "stream",
     "text": [
      "Volume up by 1 unit\n"
     ]
    }
   ],
   "source": [
    "mi.volume_up()"
   ]
  },
  {
   "cell_type": "code",
   "execution_count": 32,
   "id": "86fa1e22-e77b-469c-8e64-f816ca017c77",
   "metadata": {},
   "outputs": [
    {
     "name": "stdout",
     "output_type": "stream",
     "text": [
      "Volume down by 1 unit\n"
     ]
    }
   ],
   "source": [
    "mi.volume_down()"
   ]
  },
  {
   "cell_type": "code",
   "execution_count": 38,
   "id": "02231f52-eac3-4be7-978b-5a7a83d9f7a5",
   "metadata": {},
   "outputs": [
    {
     "name": "stdout",
     "output_type": "stream",
     "text": [
      "TV is OFF\n"
     ]
    }
   ],
   "source": [
    "mi.power_off()"
   ]
  },
  {
   "cell_type": "code",
   "execution_count": 72,
   "id": "2b09726c-3ab4-422f-a61d-4a3cd5663f52",
   "metadata": {},
   "outputs": [],
   "source": [
    "class Remote:\n",
    "    def __init__(self):#class constructor,magic method,dunder method,special method\n",
    "        print('Object has been created with class Remote')\n",
    "        print('Now you can use it!!')\n",
    "\n",
    "    def volume_up(self):\n",
    "        print('Volume up by 1 unit') \n",
    "\n",
    "    def volume_down(self):\n",
    "        print('Volume down by 1 unit') \n",
    "\n",
    "    def power_on(self):\n",
    "        print('TV is ON') \n",
    "\n",
    "    def power_off(self):\n",
    "        print('TV is OFF') \n",
    "\n",
    "    def auto_suggest_channel(self):\n",
    "        import time\n",
    "        print('Searching Trending Channel!!')\n",
    "        time.sleep(3)\n",
    "        print('YOUTUBE!! IITM')\n",
    "\n",
    "    def __del__(self):#class destructor\n",
    "        print('Object has been deleted successfully!!')"
   ]
  },
  {
   "cell_type": "code",
   "execution_count": 74,
   "id": "71066a11-b419-41e5-914f-980af55fd5b8",
   "metadata": {},
   "outputs": [
    {
     "name": "stdout",
     "output_type": "stream",
     "text": [
      "Object has been created with class Remote\n",
      "Now you can use it!!\n",
      "Done!\n"
     ]
    }
   ],
   "source": [
    "mi = Remote()\n",
    "print('Done!')"
   ]
  },
  {
   "cell_type": "code",
   "execution_count": 76,
   "id": "14d49fa5-2084-4ec4-99e3-5cc456ee626e",
   "metadata": {},
   "outputs": [
    {
     "name": "stdout",
     "output_type": "stream",
     "text": [
      "Searching Trending Channel!!\n",
      "YOUTUBE!! IITM\n"
     ]
    }
   ],
   "source": [
    "mi.auto_suggest_channel()"
   ]
  },
  {
   "cell_type": "code",
   "execution_count": 78,
   "id": "4ece4460-8b78-4ab8-a329-e6f40d8a3caf",
   "metadata": {},
   "outputs": [
    {
     "name": "stdout",
     "output_type": "stream",
     "text": [
      "Object has been deleted successfully!!\n"
     ]
    }
   ],
   "source": [
    "del(mi)"
   ]
  },
  {
   "cell_type": "code",
   "execution_count": null,
   "id": "4ea06cb4-2fb7-43b8-8aa1-82287229cbf5",
   "metadata": {},
   "outputs": [],
   "source": []
  },
  {
   "cell_type": "code",
   "execution_count": null,
   "id": "87ac5774-34bd-4a82-a0eb-d1263242e1f8",
   "metadata": {},
   "outputs": [],
   "source": []
  },
  {
   "cell_type": "code",
   "execution_count": 1,
   "id": "1495171c-ee0c-48e2-abc4-662a39975f10",
   "metadata": {},
   "outputs": [],
   "source": [
    "class Car:\n",
    "    \n",
    "    def __init__(self):\n",
    "        #instance variables\n",
    "        self.color = 'Black'\n",
    "        self.wheel = 4\n",
    "        self.spare_wheel = 1\n",
    "        self.airbag_support = True\n",
    "        self.fuel_type = 'Petrol'\n",
    "        self.car_type = 'Sedan'\n",
    "        self.gear_type = 'Automatic'\n",
    "        print('Your Car is Ready!!')\n",
    "\n",
    "#======================================================================================================\n",
    "#features\n",
    "\n",
    "    def auto_park(self):\n",
    "        import IPython\n",
    "        url='''https://media.tenor.com/w6dRjuiapeIAAAAM/balthazar-parking.gif'''\n",
    "        display(IPython.display.Image(url))\n",
    "    \n",
    "    def engine_on(self):\n",
    "        import pygame\n",
    "        pygame.init()\n",
    "        path =r'''C:\\Users\\sharm\\Downloads\\car-engine-372477.mp3'''\n",
    "        music = pygame.mixer.Sound(path)\n",
    "        music.play()\n",
    "    \n",
    "    def speed_up(self):\n",
    "        c = 10\n",
    "        while 10<=200:\n",
    "            import time\n",
    "            print(f'Speed is Increasing by {c} km/hr')\n",
    "            c+= 10\n",
    "            display(clear = True)\n",
    "            time.sleep(0.5)\n",
    "            \n",
    "            if c >=100:\n",
    "                print('You are crossing speed limit')\n",
    "                break\n",
    "    \n",
    "    def drift_break(self,drift = False):\n",
    "        if drift == True:\n",
    "            import pygame\n",
    "            pygame.init()\n",
    "            path =r'''\"C:\\Users\\sharm\\Downloads\\-110063.mp3\"'''\n",
    "            music = pygame.mixer.Sound(path)\n",
    "            music.play()\n",
    "            import IPython\n",
    "            url = '''https://media2.giphy.com/media/v1.Y2lkPTc5MGI3NjExNHQyZzFxeG44NmJrcDBqNzc1cWN6dXZ6cXJ4N3RycjdoMHZjbTNvZSZlcD12MV9naWZzX3NlYXJjaCZjdD1n/nsPodQnzNRr7q/200.webp'''\n",
    "            display(IPython.display.Image(url))\n",
    "    \n",
    "        else:\n",
    "            print('Break Applied!!')"
   ]
  },
  {
   "cell_type": "code",
   "execution_count": null,
   "id": "470231b9-f04f-4dbd-90bd-1c0217238fb9",
   "metadata": {},
   "outputs": [],
   "source": []
  },
  {
   "cell_type": "code",
   "execution_count": 3,
   "id": "9a5d9e69-5e47-4aed-86e6-8ed833dd768c",
   "metadata": {},
   "outputs": [
    {
     "name": "stdout",
     "output_type": "stream",
     "text": [
      "Your Car is Ready!!\n"
     ]
    }
   ],
   "source": [
    "bmw = Car()"
   ]
  },
  {
   "cell_type": "code",
   "execution_count": 139,
   "id": "d9c63276-c484-41be-8311-ea7f88f0cf77",
   "metadata": {},
   "outputs": [],
   "source": [
    "# pip install pygame"
   ]
  },
  {
   "cell_type": "code",
   "execution_count": 141,
   "id": "6c48bdf3-7870-4059-8f21-d7a0d2643b34",
   "metadata": {},
   "outputs": [],
   "source": [
    "# pip install ipython"
   ]
  },
  {
   "cell_type": "code",
   "execution_count": 8,
   "id": "ce02a6ca-1522-416d-9d47-4a7e21965258",
   "metadata": {},
   "outputs": [],
   "source": [
    "bmw.engine_on()"
   ]
  },
  {
   "cell_type": "code",
   "execution_count": 159,
   "id": "7b74fe0a-caae-4ab6-bb9b-91fe8c6a717d",
   "metadata": {},
   "outputs": [
    {
     "name": "stdout",
     "output_type": "stream",
     "text": [
      "Break Applied!!\n"
     ]
    }
   ],
   "source": [
    "bmw.drift_break()"
   ]
  },
  {
   "cell_type": "code",
   "execution_count": 183,
   "id": "82bbd334-e90a-49cf-af60-d3999038fd5c",
   "metadata": {},
   "outputs": [
    {
     "name": "stdout",
     "output_type": "stream",
     "text": [
      "You are crossing speed limit\n"
     ]
    }
   ],
   "source": [
    "bmw.speed_up()"
   ]
  },
  {
   "cell_type": "code",
   "execution_count": 199,
   "id": "d4df90ff-929d-4710-81d7-82f468c0fc76",
   "metadata": {},
   "outputs": [
    {
     "data": {
      "image/gif": "[encoded data removed]",
      "text/plain": [
       "<IPython.core.display.Image object>"
      ]
     },
     "metadata": {},
     "output_type": "display_data"
    }
   ],
   "source": [
    "bmw.auto_park()"
   ]
  },
  {
   "cell_type": "code",
   "execution_count": null,
   "id": "15498daf-5d69-40e8-8103-c22026c7ae56",
   "metadata": {},
   "outputs": [],
   "source": []
  },
  {
   "cell_type": "code",
   "execution_count": null,
   "id": "171fd923-2bf7-468e-b9c9-bc23f42e1bc3",
   "metadata": {},
   "outputs": [],
   "source": []
  },
  {
   "cell_type": "code",
   "execution_count": 13,
   "id": "aa6f2847-81e0-4e44-9cf8-c172334f47d7",
   "metadata": {},
   "outputs": [
    {
     "name": "stdout",
     "output_type": "stream",
     "text": [
      "Your Car is Ready!!\n"
     ]
    }
   ],
   "source": [
    "kia = Car()"
   ]
  },
  {
   "cell_type": "code",
   "execution_count": 15,
   "id": "ad0cfce6-f8df-4a7e-9188-a57ce727014d",
   "metadata": {},
   "outputs": [
    {
     "data": {
      "text/plain": [
       "'Black'"
      ]
     },
     "execution_count": 15,
     "metadata": {},
     "output_type": "execute_result"
    }
   ],
   "source": [
    "kia.color\n"
   ]
  },
  {
   "cell_type": "code",
   "execution_count": 17,
   "id": "0b3e35ea-c121-43e4-b813-c0d8fb0bb370",
   "metadata": {},
   "outputs": [
    {
     "data": {
      "text/plain": [
       "'Automatic'"
      ]
     },
     "execution_count": 17,
     "metadata": {},
     "output_type": "execute_result"
    }
   ],
   "source": [
    "kia.gear_type"
   ]
  },
  {
   "cell_type": "code",
   "execution_count": 19,
   "id": "b01253fa-124e-486c-8155-cad91f82f8a3",
   "metadata": {},
   "outputs": [
    {
     "name": "stdout",
     "output_type": "stream",
     "text": [
      "Your Car is Ready!!\n"
     ]
    }
   ],
   "source": [
    "tata = Car()"
   ]
  },
  {
   "cell_type": "code",
   "execution_count": 21,
   "id": "486b08a1-2802-4e81-bf35-7d39baaa5e35",
   "metadata": {},
   "outputs": [
    {
     "name": "stdout",
     "output_type": "stream",
     "text": [
      "Your Car is Ready!!\n"
     ]
    }
   ],
   "source": [
    "maruti = Car()"
   ]
  },
  {
   "cell_type": "code",
   "execution_count": 23,
   "id": "a07de436-704c-4974-b60c-30f65bab8334",
   "metadata": {},
   "outputs": [
    {
     "data": {
      "text/plain": [
       "'Black'"
      ]
     },
     "execution_count": 23,
     "metadata": {},
     "output_type": "execute_result"
    }
   ],
   "source": [
    "tata.color"
   ]
  },
  {
   "cell_type": "code",
   "execution_count": 25,
   "id": "6fa296cd-853f-49cc-bd43-aa033ad89d96",
   "metadata": {},
   "outputs": [],
   "source": [
    "tata.color = 'white'"
   ]
  },
  {
   "cell_type": "code",
   "execution_count": 27,
   "id": "43df1462-1198-4807-9292-ff759b9f04f6",
   "metadata": {},
   "outputs": [
    {
     "data": {
      "text/plain": [
       "'white'"
      ]
     },
     "execution_count": 27,
     "metadata": {},
     "output_type": "execute_result"
    }
   ],
   "source": [
    "tata.color"
   ]
  },
  {
   "cell_type": "code",
   "execution_count": 29,
   "id": "6e5ce342-8d99-4d3b-92d7-6d5169a3dc0a",
   "metadata": {},
   "outputs": [
    {
     "data": {
      "text/plain": [
       "'Black'"
      ]
     },
     "execution_count": 29,
     "metadata": {},
     "output_type": "execute_result"
    }
   ],
   "source": [
    "maruti.color"
   ]
  },
  {
   "cell_type": "code",
   "execution_count": 31,
   "id": "c4327d55-1214-4ba1-9dfd-a323639058b1",
   "metadata": {},
   "outputs": [],
   "source": [
    "maruti.gear_type = 'Manual'"
   ]
  },
  {
   "cell_type": "code",
   "execution_count": 33,
   "id": "4111072d-2c04-471a-a475-dc08a5731b45",
   "metadata": {},
   "outputs": [
    {
     "data": {
      "text/plain": [
       "'Manual'"
      ]
     },
     "execution_count": 33,
     "metadata": {},
     "output_type": "execute_result"
    }
   ],
   "source": [
    "maruti.gear_type"
   ]
  },
  {
   "cell_type": "code",
   "execution_count": 35,
   "id": "a1641aef-3263-44fd-845c-1c082302a830",
   "metadata": {},
   "outputs": [
    {
     "name": "stdout",
     "output_type": "stream",
     "text": [
      "Your Car is Ready!!\n"
     ]
    }
   ],
   "source": [
    "honda = Car()"
   ]
  },
  {
   "cell_type": "code",
   "execution_count": 37,
   "id": "f8cb3e63-cab4-4fcf-804f-a53b57b78d5f",
   "metadata": {},
   "outputs": [
    {
     "data": {
      "text/plain": [
       "'Automatic'"
      ]
     },
     "execution_count": 37,
     "metadata": {},
     "output_type": "execute_result"
    }
   ],
   "source": [
    "honda.gear_type"
   ]
  },
  {
   "cell_type": "code",
   "execution_count": 39,
   "id": "d6069d9c-3a86-47e1-a79d-52a0fa6df6ff",
   "metadata": {},
   "outputs": [
    {
     "data": {
      "text/plain": [
       "'Automatic'"
      ]
     },
     "execution_count": 39,
     "metadata": {},
     "output_type": "execute_result"
    }
   ],
   "source": [
    "tata.gear_type"
   ]
  },
  {
   "cell_type": "code",
   "execution_count": 10,
   "id": "92b6a255-cd2e-48ff-bf2c-82fe89a6b9ff",
   "metadata": {},
   "outputs": [],
   "source": [
    "#Pillars of oops:Abstraction,Encapsulation,Polymorphism,Inheritance"
   ]
  },
  {
   "cell_type": "code",
   "execution_count": 53,
   "id": "1ba3e463-fe67-4249-9290-3088d97fd1e7",
   "metadata": {},
   "outputs": [],
   "source": [
    "#Access Modifiers:Public,Private,Protected"
   ]
  },
  {
   "cell_type": "code",
   "execution_count": 75,
   "id": "c5b3a2f0-6241-44cb-894e-b075f0b53c49",
   "metadata": {},
   "outputs": [],
   "source": [
    "class ATM:\n",
    "    def __init__(self):\n",
    "        print('Object Created Successfully!!')\n",
    "        self.pin = 1111 #public variable\n",
    "        self.balance = 20000 #public variable\n",
    "\n",
    "    def change_pin(self):\n",
    "        self.pin = input('Enter New Pin:')\n",
    "        print('Your PIN has been changed!!')\n",
    "\n",
    "    def show_balance(self):\n",
    "        print(f'''Your current balance is Rs {self.balance}''')\n",
    "\n",
    "    def atm_performance_status(self):\n",
    "        print('ATM working Fine 100%')"
   ]
  },
  {
   "cell_type": "code",
   "execution_count": 77,
   "id": "90faaee0-ccad-49a9-a5e5-719731ac4665",
   "metadata": {},
   "outputs": [
    {
     "name": "stdout",
     "output_type": "stream",
     "text": [
      "Object Created Successfully!!\n"
     ]
    }
   ],
   "source": [
    "icici =ATM()"
   ]
  },
  {
   "cell_type": "code",
   "execution_count": 67,
   "id": "e3b315cb-4a27-45b8-9dc1-710796f9dccf",
   "metadata": {},
   "outputs": [
    {
     "name": "stdout",
     "output_type": "stream",
     "text": [
      "Your current balance is Rs 20000\n"
     ]
    }
   ],
   "source": [
    "icici.show_balance()"
   ]
  },
  {
   "cell_type": "code",
   "execution_count": 69,
   "id": "e1a24677-20ef-4b0d-b104-51886eca89aa",
   "metadata": {},
   "outputs": [
    {
     "data": {
      "text/plain": [
       "20000"
      ]
     },
     "execution_count": 69,
     "metadata": {},
     "output_type": "execute_result"
    }
   ],
   "source": [
    "icici.balance"
   ]
  },
  {
   "cell_type": "code",
   "execution_count": 73,
   "id": "d6a62f10-aabf-4f05-a68c-647eb0a3ea7c",
   "metadata": {},
   "outputs": [
    {
     "name": "stdout",
     "output_type": "stream",
     "text": [
      "ATM working Fine 100%\n"
     ]
    }
   ],
   "source": [
    "icici.atm_performance_status()"
   ]
  },
  {
   "cell_type": "code",
   "execution_count": null,
   "id": "7a69b0e8-015d-401b-8564-f3d31a829fd0",
   "metadata": {},
   "outputs": [],
   "source": []
  },
  {
   "cell_type": "code",
   "execution_count": null,
   "id": "90d6f4ab-fa4a-4768-bc2b-bf56f28c7527",
   "metadata": {},
   "outputs": [],
   "source": []
  },
  {
   "cell_type": "code",
   "execution_count": 107,
   "id": "b6e5529a-55ce-4ee9-8a0b-027b048aaf16",
   "metadata": {},
   "outputs": [],
   "source": [
    "class ATM_version_1:\n",
    "    def __init__(self):\n",
    "        print('Object Created Successfully!!')\n",
    "        self._pin = 1111 #protected variable\n",
    "        self._balance = 20000 #protected variable\n",
    "\n",
    "    def change_pin(self):\n",
    "        self._pin = input('Enter New Pin:')\n",
    "        print('Your PIN has been changed!!')\n",
    "\n",
    "    def show_balance(self):\n",
    "        print(f'''Your current balance is Rs {self._balance}''')\n",
    "\n",
    "    def atm_performance_status(self):\n",
    "        print('ATM working Fine 100%')"
   ]
  },
  {
   "cell_type": "code",
   "execution_count": 109,
   "id": "583465e5-cc1f-41c8-a195-a731513c1a39",
   "metadata": {},
   "outputs": [
    {
     "name": "stdout",
     "output_type": "stream",
     "text": [
      "Object Created Successfully!!\n"
     ]
    }
   ],
   "source": [
    "axis = ATM_version_1()"
   ]
  },
  {
   "cell_type": "code",
   "execution_count": 89,
   "id": "cf3145f3-a13a-48dc-ad13-a314e0627cd3",
   "metadata": {},
   "outputs": [
    {
     "data": {
      "text/plain": [
       "1111"
      ]
     },
     "execution_count": 89,
     "metadata": {},
     "output_type": "execute_result"
    }
   ],
   "source": [
    "axis._pin"
   ]
  },
  {
   "cell_type": "code",
   "execution_count": 91,
   "id": "13def308-1d71-423a-86fe-461b86fc69ae",
   "metadata": {},
   "outputs": [
    {
     "data": {
      "text/plain": [
       "20000"
      ]
     },
     "execution_count": 91,
     "metadata": {},
     "output_type": "execute_result"
    }
   ],
   "source": [
    "axis._balance"
   ]
  },
  {
   "cell_type": "code",
   "execution_count": null,
   "id": "7767802f-2da0-4e35-8b0f-25ae51317526",
   "metadata": {},
   "outputs": [],
   "source": []
  },
  {
   "cell_type": "code",
   "execution_count": null,
   "id": "82ca54bb-7328-48a2-87c9-32feb240ea93",
   "metadata": {},
   "outputs": [],
   "source": []
  },
  {
   "cell_type": "code",
   "execution_count": 111,
   "id": "cca3a2c5-73d8-43fa-97f8-432b4bfde0d2",
   "metadata": {},
   "outputs": [],
   "source": [
    "class ATM_version_2:\n",
    "    def __init__(self):\n",
    "        print('Object Created Successfully!!')\n",
    "        self.__pin = 1111 #private variable\n",
    "        self.__balance = 20000 #private variable\n",
    "\n",
    "    def change_pin(self):\n",
    "        self.__pin = input('Enter New Pin:')\n",
    "        print('Your PIN has been changed!!')\n",
    "\n",
    "    def show_balance(self):\n",
    "        print(f'''Your current balance is Rs {self.__balance}''')\n",
    "\n",
    "    def __atm_performance_status(self):\n",
    "        print('ATM working Fine 100%')"
   ]
  },
  {
   "cell_type": "code",
   "execution_count": 113,
   "id": "4d0af3b0-cf8e-4885-aac4-fa088475dee2",
   "metadata": {},
   "outputs": [
    {
     "name": "stdout",
     "output_type": "stream",
     "text": [
      "Object Created Successfully!!\n"
     ]
    }
   ],
   "source": [
    "sbi = ATM_version_2()"
   ]
  },
  {
   "cell_type": "code",
   "execution_count": 103,
   "id": "4a16541f-753d-45a4-937d-03538c449133",
   "metadata": {},
   "outputs": [
    {
     "name": "stdout",
     "output_type": "stream",
     "text": [
      "Your current balance is Rs 20000\n"
     ]
    }
   ],
   "source": [
    "sbi.show_balance()"
   ]
  },
  {
   "cell_type": "code",
   "execution_count": 115,
   "id": "3ab48651-ff40-41dc-ae26-ec1a18d44bbd",
   "metadata": {},
   "outputs": [
    {
     "data": {
      "text/plain": [
       "1111"
      ]
     },
     "execution_count": 115,
     "metadata": {},
     "output_type": "execute_result"
    }
   ],
   "source": [
    "sbi._ATM_version_2__pin"
   ]
  },
  {
   "cell_type": "code",
   "execution_count": 119,
   "id": "07b94a1f-44e1-486c-b25c-9f1c9901eea7",
   "metadata": {},
   "outputs": [
    {
     "name": "stdout",
     "output_type": "stream",
     "text": [
      "ATM working Fine 100%\n"
     ]
    }
   ],
   "source": [
    "sbi._ATM_version_2__atm_performance_status()"
   ]
  },
  {
   "cell_type": "code",
   "execution_count": 121,
   "id": "cfa0ec61-97b1-4eb6-b0ca-9e7ff2931f63",
   "metadata": {},
   "outputs": [
    {
     "data": {
      "text/plain": [
       "20000"
      ]
     },
     "execution_count": 121,
     "metadata": {},
     "output_type": "execute_result"
    }
   ],
   "source": [
    "sbi._ATM_version_2__balance"
   ]
  },
  {
   "cell_type": "code",
   "execution_count": null,
   "id": "e6866161-47a9-4892-811e-b93bba8b1d60",
   "metadata": {},
   "outputs": [],
   "source": []
  },
  {
   "cell_type": "code",
   "execution_count": null,
   "id": "93387800-883e-41ae-816a-3cdcbc0688ee",
   "metadata": {},
   "outputs": [],
   "source": []
  }
 ],
 "metadata": {
  "kernelspec": {
   "display_name": "Python 3 (ipykernel)",
   "language": "python",
   "name": "python3"
  },
  "language_info": {
   "codemirror_mode": {
    "name": "ipython",
    "version": 3
   },
   "file_extension": ".py",
   "mimetype": "text/x-python",
   "name": "python",
   "nbconvert_exporter": "python",
   "pygments_lexer": "ipython3",
   "version": "3.12.4"
  }
 },
 "nbformat": 4,
 "nbformat_minor": 5
}
